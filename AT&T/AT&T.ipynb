{
 "cells": [
  {
   "attachments": {},
   "cell_type": "markdown",
   "metadata": {},
   "source": [
    "# Projet AT&T Spam Detector : Determiner si le SMS est un spam ou non"
   ]
  },
  {
   "attachments": {},
   "cell_type": "markdown",
   "metadata": {},
   "source": [
    "# LIBs"
   ]
  },
  {
   "cell_type": "code",
   "execution_count": 70,
   "metadata": {},
   "outputs": [],
   "source": [
    "import numpy as np\n",
    "import pandas as pd\n",
    "\n",
    "#Import pour NLP\n",
    "import en_core_web_lg\n",
    "from spacy.lang.en.stop_words import STOP_WORDS\n",
    "\n",
    "#TensorFlow\n",
    "import tensorflow as tf\n",
    "from tensorflow.keras import Sequential\n",
    "from tensorflow.keras.layers import Dense, Embedding, GlobalAveragePooling1D\n",
    "import tensorflow_hub as hub\n",
    "\n",
    "#Splitting\n",
    "from sklearn.model_selection import train_test_split\n",
    "\n",
    "#Scoring\n",
    "from sklearn.metrics import confusion_matrix,ConfusionMatrixDisplay,precision_score, recall_score, f1_score, accuracy_score\n",
    "\n",
    "#Graphes\n",
    "import matplotlib.pyplot as plt\n",
    "\n"
   ]
  },
  {
   "cell_type": "code",
   "execution_count": 50,
   "metadata": {},
   "outputs": [],
   "source": [
    "#utils \n",
    "\n",
    "def evaluate_model(desc, model, X, y):\n",
    "\t'''\n",
    "\tevaluate the model and returns accuracy,\n",
    "\tprecision, recall and f1-score\n",
    "\t'''\n",
    "\ty_preds = np.round(model.predict(X))\n",
    "\taccuracy = accuracy_score(y, y_preds)\n",
    "\tprecision = precision_score(y, y_preds)\n",
    "\trecall = recall_score(y, y_preds)\n",
    "\tf1 = f1_score(y, y_preds)\n",
    "\n",
    "\tmodel_results_dict = { 'description' : desc,\n",
    "\t\t\t\t\t\t'accuracy': accuracy,\n",
    "\t\t\t\t\t\t'precision': precision,\n",
    "\t\t\t\t\t\t'recall': recall,\n",
    "\t\t\t\t\t\t'f1-score': f1}\n",
    "\n",
    "\treturn model_results_dict"
   ]
  },
  {
   "attachments": {},
   "cell_type": "markdown",
   "metadata": {},
   "source": [
    "# Préparation des Datas"
   ]
  },
  {
   "cell_type": "code",
   "execution_count": 2,
   "metadata": {},
   "outputs": [],
   "source": [
    "#Récupération du DataSet\n",
    "dataset = pd.read_csv(\"https://full-stack-bigdata-datasets.s3.eu-west-3.amazonaws.com/Deep+Learning/project/spam.csv\",encoding = \"ISO-8859-1\")"
   ]
  },
  {
   "cell_type": "code",
   "execution_count": 3,
   "metadata": {},
   "outputs": [
    {
     "data": {
      "text/html": [
       "<div>\n",
       "<style scoped>\n",
       "    .dataframe tbody tr th:only-of-type {\n",
       "        vertical-align: middle;\n",
       "    }\n",
       "\n",
       "    .dataframe tbody tr th {\n",
       "        vertical-align: top;\n",
       "    }\n",
       "\n",
       "    .dataframe thead th {\n",
       "        text-align: right;\n",
       "    }\n",
       "</style>\n",
       "<table border=\"1\" class=\"dataframe\">\n",
       "  <thead>\n",
       "    <tr style=\"text-align: right;\">\n",
       "      <th></th>\n",
       "      <th>v1</th>\n",
       "      <th>v2</th>\n",
       "      <th>Unnamed: 2</th>\n",
       "      <th>Unnamed: 3</th>\n",
       "      <th>Unnamed: 4</th>\n",
       "    </tr>\n",
       "  </thead>\n",
       "  <tbody>\n",
       "    <tr>\n",
       "      <th>0</th>\n",
       "      <td>ham</td>\n",
       "      <td>Go until jurong point, crazy.. Available only ...</td>\n",
       "      <td>NaN</td>\n",
       "      <td>NaN</td>\n",
       "      <td>NaN</td>\n",
       "    </tr>\n",
       "    <tr>\n",
       "      <th>1</th>\n",
       "      <td>ham</td>\n",
       "      <td>Ok lar... Joking wif u oni...</td>\n",
       "      <td>NaN</td>\n",
       "      <td>NaN</td>\n",
       "      <td>NaN</td>\n",
       "    </tr>\n",
       "    <tr>\n",
       "      <th>2</th>\n",
       "      <td>spam</td>\n",
       "      <td>Free entry in 2 a wkly comp to win FA Cup fina...</td>\n",
       "      <td>NaN</td>\n",
       "      <td>NaN</td>\n",
       "      <td>NaN</td>\n",
       "    </tr>\n",
       "    <tr>\n",
       "      <th>3</th>\n",
       "      <td>ham</td>\n",
       "      <td>U dun say so early hor... U c already then say...</td>\n",
       "      <td>NaN</td>\n",
       "      <td>NaN</td>\n",
       "      <td>NaN</td>\n",
       "    </tr>\n",
       "    <tr>\n",
       "      <th>4</th>\n",
       "      <td>ham</td>\n",
       "      <td>Nah I don't think he goes to usf, he lives aro...</td>\n",
       "      <td>NaN</td>\n",
       "      <td>NaN</td>\n",
       "      <td>NaN</td>\n",
       "    </tr>\n",
       "  </tbody>\n",
       "</table>\n",
       "</div>"
      ],
      "text/plain": [
       "     v1                                                 v2 Unnamed: 2  \\\n",
       "0   ham  Go until jurong point, crazy.. Available only ...        NaN   \n",
       "1   ham                      Ok lar... Joking wif u oni...        NaN   \n",
       "2  spam  Free entry in 2 a wkly comp to win FA Cup fina...        NaN   \n",
       "3   ham  U dun say so early hor... U c already then say...        NaN   \n",
       "4   ham  Nah I don't think he goes to usf, he lives aro...        NaN   \n",
       "\n",
       "  Unnamed: 3 Unnamed: 4  \n",
       "0        NaN        NaN  \n",
       "1        NaN        NaN  \n",
       "2        NaN        NaN  \n",
       "3        NaN        NaN  \n",
       "4        NaN        NaN  "
      ]
     },
     "execution_count": 3,
     "metadata": {},
     "output_type": "execute_result"
    }
   ],
   "source": [
    "dataset.head()"
   ]
  },
  {
   "cell_type": "code",
   "execution_count": 4,
   "metadata": {},
   "outputs": [
    {
     "data": {
      "text/plain": [
       "(5572, 5)"
      ]
     },
     "execution_count": 4,
     "metadata": {},
     "output_type": "execute_result"
    }
   ],
   "source": [
    "dataset.shape"
   ]
  },
  {
   "attachments": {},
   "cell_type": "markdown",
   "metadata": {},
   "source": [
    "Si on explore les DATA les colonnes Unnamed ne sont pas toutes vides.\n",
    "\n",
    "Si on étudie par exemple la ligne 281 : \n",
    "ham,\\Wen u miss someone, the person is definitely special for u..... But if the person is so special, why to miss them,\" just Keep-in-touch\\\"\" gdeve..\"\"\"\n",
    "-> On s'apercoit que c'est uniquement des virgules d'une même phrase, on va donc concaténer toutes les colonnes\n",
    "\n",
    "On vérifie avec la ligne 95 \n",
    "spam,\"Your free ringtone is waiting to be collected. Simply text the password \\MIX\\\"\" to 85069 to verify. Get Usher and Britney. FML\", PO Box 5249,\" MK17 92H. 450Ppw 16\"\"\",\n",
    "les données ne sont pas très importantes\n",
    "\n",
    "On vérifie encore avec ligne 4668\n",
    "ham,\"When I was born, GOD said, \\Oh No! Another IDIOT\\\"\". When you were born\", GOD said,\" \\\"\"OH No! COMPETITION\\\"\". Who knew\",\" one day these two will become FREINDS FOREVER!\"\"\"\n",
    "=> Même conclusion on peut tout coller "
   ]
  },
  {
   "cell_type": "code",
   "execution_count": 5,
   "metadata": {},
   "outputs": [],
   "source": [
    "#On renseigne les NAN avec des chaines vides\n",
    "dataset = dataset.fillna('')\n",
    "#Concatenation des colonnes\n",
    "dataset['content'] = dataset.iloc[:,1] + dataset.iloc[:,2] + dataset.iloc[:,3] + dataset.iloc[:,4]\n",
    "#Suppression des colonnes \n",
    "dataset.drop(columns=['v2','Unnamed: 2','Unnamed: 3','Unnamed: 4'],inplace=True,axis=1)\n",
    "#rename de la colonne\n",
    "dataset.rename(columns={'v1':'target'},inplace=True)"
   ]
  },
  {
   "cell_type": "code",
   "execution_count": 6,
   "metadata": {},
   "outputs": [
    {
     "data": {
      "text/html": [
       "<div>\n",
       "<style scoped>\n",
       "    .dataframe tbody tr th:only-of-type {\n",
       "        vertical-align: middle;\n",
       "    }\n",
       "\n",
       "    .dataframe tbody tr th {\n",
       "        vertical-align: top;\n",
       "    }\n",
       "\n",
       "    .dataframe thead th {\n",
       "        text-align: right;\n",
       "    }\n",
       "</style>\n",
       "<table border=\"1\" class=\"dataframe\">\n",
       "  <thead>\n",
       "    <tr style=\"text-align: right;\">\n",
       "      <th></th>\n",
       "      <th>target</th>\n",
       "      <th>content</th>\n",
       "    </tr>\n",
       "  </thead>\n",
       "  <tbody>\n",
       "    <tr>\n",
       "      <th>0</th>\n",
       "      <td>ham</td>\n",
       "      <td>Go until jurong point, crazy.. Available only ...</td>\n",
       "    </tr>\n",
       "    <tr>\n",
       "      <th>1</th>\n",
       "      <td>ham</td>\n",
       "      <td>Ok lar... Joking wif u oni...</td>\n",
       "    </tr>\n",
       "    <tr>\n",
       "      <th>2</th>\n",
       "      <td>spam</td>\n",
       "      <td>Free entry in 2 a wkly comp to win FA Cup fina...</td>\n",
       "    </tr>\n",
       "    <tr>\n",
       "      <th>3</th>\n",
       "      <td>ham</td>\n",
       "      <td>U dun say so early hor... U c already then say...</td>\n",
       "    </tr>\n",
       "    <tr>\n",
       "      <th>4</th>\n",
       "      <td>ham</td>\n",
       "      <td>Nah I don't think he goes to usf, he lives aro...</td>\n",
       "    </tr>\n",
       "  </tbody>\n",
       "</table>\n",
       "</div>"
      ],
      "text/plain": [
       "  target                                            content\n",
       "0    ham  Go until jurong point, crazy.. Available only ...\n",
       "1    ham                      Ok lar... Joking wif u oni...\n",
       "2   spam  Free entry in 2 a wkly comp to win FA Cup fina...\n",
       "3    ham  U dun say so early hor... U c already then say...\n",
       "4    ham  Nah I don't think he goes to usf, he lives aro..."
      ]
     },
     "execution_count": 6,
     "metadata": {},
     "output_type": "execute_result"
    }
   ],
   "source": [
    "dataset.head()"
   ]
  },
  {
   "cell_type": "code",
   "execution_count": null,
   "metadata": {},
   "outputs": [],
   "source": [
    "#Quelquechose qui joue beaucoup dans le spamming sont les caractères spéciaux, les mails contiennent toujours bcp plus de caractère bizarres\n",
    "#Voyons si ca se vérifie sur notre dataset"
   ]
  },
  {
   "cell_type": "code",
   "execution_count": 9,
   "metadata": {},
   "outputs": [],
   "source": [
    "#Fonction de comptage des caractères non alphanum\n",
    "def compte(chaine):\n",
    "    count = 0\n",
    "    for caractere in chaine:\n",
    "        if not caractere.isalnum():\n",
    "            count += 1\n",
    "    return count"
   ]
  },
  {
   "cell_type": "code",
   "execution_count": 10,
   "metadata": {},
   "outputs": [],
   "source": [
    "dataset[\"nb_car_non_alpha\"] = dataset[\"content\"].apply(lambda x: compte(x))"
   ]
  },
  {
   "cell_type": "code",
   "execution_count": 11,
   "metadata": {},
   "outputs": [
    {
     "name": "stderr",
     "output_type": "stream",
     "text": [
      "/var/folders/gk/g_6gw4153wgc0_gxbmhvzmc40000gn/T/ipykernel_75714/802923674.py:1: FutureWarning: The default value of numeric_only in DataFrameGroupBy.mean is deprecated. In a future version, numeric_only will default to False. Either specify numeric_only or select only columns which should be valid for the function.\n",
      "  dataset.groupby(['target']).mean()\n"
     ]
    },
    {
     "data": {
      "text/html": [
       "<div>\n",
       "<style scoped>\n",
       "    .dataframe tbody tr th:only-of-type {\n",
       "        vertical-align: middle;\n",
       "    }\n",
       "\n",
       "    .dataframe tbody tr th {\n",
       "        vertical-align: top;\n",
       "    }\n",
       "\n",
       "    .dataframe thead th {\n",
       "        text-align: right;\n",
       "    }\n",
       "</style>\n",
       "<table border=\"1\" class=\"dataframe\">\n",
       "  <thead>\n",
       "    <tr style=\"text-align: right;\">\n",
       "      <th></th>\n",
       "      <th>nb_car_non_alpha</th>\n",
       "    </tr>\n",
       "    <tr>\n",
       "      <th>target</th>\n",
       "      <th></th>\n",
       "    </tr>\n",
       "  </thead>\n",
       "  <tbody>\n",
       "    <tr>\n",
       "      <th>ham</th>\n",
       "      <td>17.500518</td>\n",
       "    </tr>\n",
       "    <tr>\n",
       "      <th>spam</th>\n",
       "      <td>29.132530</td>\n",
       "    </tr>\n",
       "  </tbody>\n",
       "</table>\n",
       "</div>"
      ],
      "text/plain": [
       "        nb_car_non_alpha\n",
       "target                  \n",
       "ham            17.500518\n",
       "spam           29.132530"
      ]
     },
     "execution_count": 11,
     "metadata": {},
     "output_type": "execute_result"
    }
   ],
   "source": [
    "dataset.groupby(['target']).mean()"
   ]
  },
  {
   "attachments": {},
   "cell_type": "markdown",
   "metadata": {},
   "source": [
    "Conclusion : Il semblerait qu'il y ai deux fois plus de caractères non alphanum dans les spams.\n",
    "Nous allons donc doubler nos essais pour voir la différence"
   ]
  },
  {
   "attachments": {},
   "cell_type": "markdown",
   "metadata": {},
   "source": [
    "# Model WordEmbedding"
   ]
  },
  {
   "attachments": {},
   "cell_type": "markdown",
   "metadata": {},
   "source": [
    "Application des techniques de NLP, pour cleaner les data, les lemmanizer puis, appliquer du DEEP learnig de classification"
   ]
  },
  {
   "cell_type": "code",
   "execution_count": null,
   "metadata": {},
   "outputs": [],
   "source": [
    "#Utilisation de Spacy avec le dictionnaire des mots anglais complet\n",
    "#!python -m spacy download en_core_web_lg -q"
   ]
  },
  {
   "cell_type": "code",
   "execution_count": 8,
   "metadata": {},
   "outputs": [],
   "source": [
    "nlp = en_core_web_lg.load()"
   ]
  },
  {
   "cell_type": "code",
   "execution_count": 12,
   "metadata": {},
   "outputs": [],
   "source": [
    "#Ajout de colonne en supprimant les caractères speciaux\n",
    "#remove all non alphanumeric characters except whitespaces\n",
    "dataset[\"content_clean\"] = dataset[\"content\"].apply(lambda x:''.join(ch for ch in x if ch.isalnum() or ch==\" \" or ch == \"'\"))\n",
    "#dataset[\"content_clean\"] = dataset[\"content\"]\n",
    "# remove double spaces and spaces at the beginning and end of strings\n",
    "dataset[\"content_clean\"] = dataset[\"content_clean\"].apply(lambda x: x.replace(\" +\",\" \").lower().strip())\n",
    "# remove stop words and replace everyword with their lemma\n",
    "dataset[\"content_clean\"] = dataset[\"content_clean\"].apply(lambda x: \" \".join([token.lemma_ for token in nlp(x) if (token.lemma_ not in STOP_WORDS) & (token.text not in STOP_WORDS)]))"
   ]
  },
  {
   "cell_type": "code",
   "execution_count": 18,
   "metadata": {},
   "outputs": [],
   "source": [
    "#Ajout de colonne en conservant les caractères speciaux\n",
    "dataset[\"content_clean_all_car\"] = dataset[\"content\"]\n",
    "# remove double spaces and spaces at the beginning and end of strings\n",
    "dataset[\"content_clean_all_car\"] = dataset[\"content_clean_all_car\"].apply(lambda x: x.replace(\" +\",\" \").lower().strip())\n",
    "# remove stop words and replace everyword with their lemma\n",
    "dataset[\"content_clean_all_car\"] = dataset[\"content_clean_all_car\"].apply(lambda x: \" \".join([token.lemma_ for token in nlp(x) if (token.lemma_ not in STOP_WORDS) & (token.text not in STOP_WORDS)]))"
   ]
  },
  {
   "cell_type": "code",
   "execution_count": 20,
   "metadata": {},
   "outputs": [
    {
     "data": {
      "text/html": [
       "<div>\n",
       "<style scoped>\n",
       "    .dataframe tbody tr th:only-of-type {\n",
       "        vertical-align: middle;\n",
       "    }\n",
       "\n",
       "    .dataframe tbody tr th {\n",
       "        vertical-align: top;\n",
       "    }\n",
       "\n",
       "    .dataframe thead th {\n",
       "        text-align: right;\n",
       "    }\n",
       "</style>\n",
       "<table border=\"1\" class=\"dataframe\">\n",
       "  <thead>\n",
       "    <tr style=\"text-align: right;\">\n",
       "      <th></th>\n",
       "      <th>target</th>\n",
       "      <th>content</th>\n",
       "      <th>nb_car_non_alpha</th>\n",
       "      <th>content_clean</th>\n",
       "      <th>content_clean_all_car</th>\n",
       "    </tr>\n",
       "  </thead>\n",
       "  <tbody>\n",
       "    <tr>\n",
       "      <th>0</th>\n",
       "      <td>ham</td>\n",
       "      <td>Go until jurong point, crazy.. Available only ...</td>\n",
       "      <td>28</td>\n",
       "      <td>jurong point crazy available bugis n great wor...</td>\n",
       "      <td>jurong point , crazy .. available bugis n grea...</td>\n",
       "    </tr>\n",
       "    <tr>\n",
       "      <th>1</th>\n",
       "      <td>ham</td>\n",
       "      <td>Ok lar... Joking wif u oni...</td>\n",
       "      <td>11</td>\n",
       "      <td>ok lar joke wif u oni</td>\n",
       "      <td>ok lar ... joke wif u oni ...</td>\n",
       "    </tr>\n",
       "    <tr>\n",
       "      <th>2</th>\n",
       "      <td>spam</td>\n",
       "      <td>Free entry in 2 a wkly comp to win FA Cup fina...</td>\n",
       "      <td>33</td>\n",
       "      <td>free entry 2 wkly comp win fa cup final tkts 2...</td>\n",
       "      <td>free entry 2 wkly comp win fa cup final tkts 2...</td>\n",
       "    </tr>\n",
       "    <tr>\n",
       "      <th>3</th>\n",
       "      <td>ham</td>\n",
       "      <td>U dun say so early hor... U c already then say...</td>\n",
       "      <td>16</td>\n",
       "      <td>u dun early hor u c</td>\n",
       "      <td>u dun early hor ... u c ...</td>\n",
       "    </tr>\n",
       "    <tr>\n",
       "      <th>4</th>\n",
       "      <td>ham</td>\n",
       "      <td>Nah I don't think he goes to usf, he lives aro...</td>\n",
       "      <td>14</td>\n",
       "      <td>nah think usf live</td>\n",
       "      <td>nah think usf , live</td>\n",
       "    </tr>\n",
       "  </tbody>\n",
       "</table>\n",
       "</div>"
      ],
      "text/plain": [
       "  target                                            content  nb_car_non_alpha  \\\n",
       "0    ham  Go until jurong point, crazy.. Available only ...                28   \n",
       "1    ham                      Ok lar... Joking wif u oni...                11   \n",
       "2   spam  Free entry in 2 a wkly comp to win FA Cup fina...                33   \n",
       "3    ham  U dun say so early hor... U c already then say...                16   \n",
       "4    ham  Nah I don't think he goes to usf, he lives aro...                14   \n",
       "\n",
       "                                       content_clean  \\\n",
       "0  jurong point crazy available bugis n great wor...   \n",
       "1                              ok lar joke wif u oni   \n",
       "2  free entry 2 wkly comp win fa cup final tkts 2...   \n",
       "3                                u dun early hor u c   \n",
       "4                                 nah think usf live   \n",
       "\n",
       "                               content_clean_all_car  \n",
       "0  jurong point , crazy .. available bugis n grea...  \n",
       "1                      ok lar ... joke wif u oni ...  \n",
       "2  free entry 2 wkly comp win fa cup final tkts 2...  \n",
       "3                        u dun early hor ... u c ...  \n",
       "4                               nah think usf , live  "
      ]
     },
     "execution_count": 20,
     "metadata": {},
     "output_type": "execute_result"
    }
   ],
   "source": [
    "dataset.head()"
   ]
  },
  {
   "cell_type": "code",
   "execution_count": 23,
   "metadata": {},
   "outputs": [],
   "source": [
    "#Instance de la classe tokenizer de TF\n",
    "tokenizer = tf.keras.preprocessing.text.Tokenizer(num_words=100)\n",
    "tokenizer_all_car = tf.keras.preprocessing.text.Tokenizer(num_words=100)"
   ]
  },
  {
   "cell_type": "code",
   "execution_count": 24,
   "metadata": {},
   "outputs": [],
   "source": [
    "#Comptage des mots de nos documents\n",
    "tokenizer.fit_on_texts(dataset['content_clean']) \n",
    "tokenizer_all_car.fit_on_texts(dataset['content_clean_all_car']) "
   ]
  },
  {
   "cell_type": "code",
   "execution_count": 25,
   "metadata": {},
   "outputs": [],
   "source": [
    "dataset[\"content_seq\"] = tokenizer.texts_to_sequences(dataset['content_clean'])\n",
    "dataset[\"content_seq_all_car\"] = tokenizer_all_car.texts_to_sequences(dataset['content_clean_all_car'])"
   ]
  },
  {
   "cell_type": "code",
   "execution_count": 26,
   "metadata": {},
   "outputs": [],
   "source": [
    "#Verification que nous n'avons pas de liste vides\n",
    "dataset[\"content_seq_len\"] = dataset[\"content_seq\"].apply(lambda x: len(x))\n",
    "data_clean = dataset[dataset[\"content_seq_len\"]!=0]\n",
    "\n",
    "dataset[\"content_seq_len_all_car\"] = dataset[\"content_seq_all_car\"].apply(lambda x: len(x))\n",
    "data_clean_all_car = dataset[dataset[\"content_seq_all_car\"]!=0]"
   ]
  },
  {
   "cell_type": "code",
   "execution_count": 28,
   "metadata": {},
   "outputs": [
    {
     "data": {
      "text/plain": [
       "(4649, 8)"
      ]
     },
     "execution_count": 28,
     "metadata": {},
     "output_type": "execute_result"
    }
   ],
   "source": [
    "data_clean.shape"
   ]
  },
  {
   "cell_type": "code",
   "execution_count": 29,
   "metadata": {},
   "outputs": [
    {
     "data": {
      "text/plain": [
       "(5572, 9)"
      ]
     },
     "execution_count": 29,
     "metadata": {},
     "output_type": "execute_result"
    }
   ],
   "source": [
    "data_clean_all_car.shape"
   ]
  },
  {
   "attachments": {},
   "cell_type": "markdown",
   "metadata": {},
   "source": [
    "On constate que l'on a bien une différence de lignes (pour les colonnes c'est normal c'est la construction du code)"
   ]
  },
  {
   "cell_type": "code",
   "execution_count": 30,
   "metadata": {},
   "outputs": [
    {
     "data": {
      "text/html": [
       "<div>\n",
       "<style scoped>\n",
       "    .dataframe tbody tr th:only-of-type {\n",
       "        vertical-align: middle;\n",
       "    }\n",
       "\n",
       "    .dataframe tbody tr th {\n",
       "        vertical-align: top;\n",
       "    }\n",
       "\n",
       "    .dataframe thead th {\n",
       "        text-align: right;\n",
       "    }\n",
       "</style>\n",
       "<table border=\"1\" class=\"dataframe\">\n",
       "  <thead>\n",
       "    <tr style=\"text-align: right;\">\n",
       "      <th></th>\n",
       "      <th>target</th>\n",
       "      <th>content</th>\n",
       "      <th>nb_car_non_alpha</th>\n",
       "      <th>content_clean</th>\n",
       "      <th>content_clean_all_car</th>\n",
       "      <th>content_seq</th>\n",
       "      <th>content_seq_all_car</th>\n",
       "      <th>content_seq_len</th>\n",
       "    </tr>\n",
       "  </thead>\n",
       "  <tbody>\n",
       "    <tr>\n",
       "      <th>0</th>\n",
       "      <td>ham</td>\n",
       "      <td>Go until jurong point, crazy.. Available only ...</td>\n",
       "      <td>28</td>\n",
       "      <td>jurong point crazy available bugis n great wor...</td>\n",
       "      <td>jurong point , crazy .. available bugis n grea...</td>\n",
       "      <td>[31, 49, 77, 62]</td>\n",
       "      <td>[31, 55, 77, 67]</td>\n",
       "      <td>4</td>\n",
       "    </tr>\n",
       "    <tr>\n",
       "      <th>1</th>\n",
       "      <td>ham</td>\n",
       "      <td>Ok lar... Joking wif u oni...</td>\n",
       "      <td>11</td>\n",
       "      <td>ok lar joke wif u oni</td>\n",
       "      <td>ok lar ... joke wif u oni ...</td>\n",
       "      <td>[8, 1]</td>\n",
       "      <td>[8, 1]</td>\n",
       "      <td>2</td>\n",
       "    </tr>\n",
       "    <tr>\n",
       "      <th>2</th>\n",
       "      <td>spam</td>\n",
       "      <td>Free entry in 2 a wkly comp to win FA Cup fina...</td>\n",
       "      <td>33</td>\n",
       "      <td>free entry 2 wkly comp win fa cup final tkts 2...</td>\n",
       "      <td>free entry 2 wkly comp win fa cup final tkts 2...</td>\n",
       "      <td>[10, 2, 29, 17, 21]</td>\n",
       "      <td>[11, 2, 30, 18, 22, 89, 47]</td>\n",
       "      <td>5</td>\n",
       "    </tr>\n",
       "    <tr>\n",
       "      <th>3</th>\n",
       "      <td>ham</td>\n",
       "      <td>U dun say so early hor... U c already then say...</td>\n",
       "      <td>16</td>\n",
       "      <td>u dun early hor u c</td>\n",
       "      <td>u dun early hor ... u c ...</td>\n",
       "      <td>[1, 1, 80]</td>\n",
       "      <td>[1, 1, 47]</td>\n",
       "      <td>3</td>\n",
       "    </tr>\n",
       "    <tr>\n",
       "      <th>4</th>\n",
       "      <td>ham</td>\n",
       "      <td>Nah I don't think he goes to usf, he lives aro...</td>\n",
       "      <td>14</td>\n",
       "      <td>nah think usf live</td>\n",
       "      <td>nah think usf , live</td>\n",
       "      <td>[19]</td>\n",
       "      <td>[20]</td>\n",
       "      <td>1</td>\n",
       "    </tr>\n",
       "  </tbody>\n",
       "</table>\n",
       "</div>"
      ],
      "text/plain": [
       "  target                                            content  nb_car_non_alpha  \\\n",
       "0    ham  Go until jurong point, crazy.. Available only ...                28   \n",
       "1    ham                      Ok lar... Joking wif u oni...                11   \n",
       "2   spam  Free entry in 2 a wkly comp to win FA Cup fina...                33   \n",
       "3    ham  U dun say so early hor... U c already then say...                16   \n",
       "4    ham  Nah I don't think he goes to usf, he lives aro...                14   \n",
       "\n",
       "                                       content_clean  \\\n",
       "0  jurong point crazy available bugis n great wor...   \n",
       "1                              ok lar joke wif u oni   \n",
       "2  free entry 2 wkly comp win fa cup final tkts 2...   \n",
       "3                                u dun early hor u c   \n",
       "4                                 nah think usf live   \n",
       "\n",
       "                               content_clean_all_car          content_seq  \\\n",
       "0  jurong point , crazy .. available bugis n grea...     [31, 49, 77, 62]   \n",
       "1                      ok lar ... joke wif u oni ...               [8, 1]   \n",
       "2  free entry 2 wkly comp win fa cup final tkts 2...  [10, 2, 29, 17, 21]   \n",
       "3                        u dun early hor ... u c ...           [1, 1, 80]   \n",
       "4                               nah think usf , live                 [19]   \n",
       "\n",
       "           content_seq_all_car  content_seq_len  \n",
       "0             [31, 55, 77, 67]                4  \n",
       "1                       [8, 1]                2  \n",
       "2  [11, 2, 30, 18, 22, 89, 47]                5  \n",
       "3                   [1, 1, 47]                3  \n",
       "4                         [20]                1  "
      ]
     },
     "execution_count": 30,
     "metadata": {},
     "output_type": "execute_result"
    }
   ],
   "source": [
    "data_clean.head()"
   ]
  },
  {
   "cell_type": "code",
   "execution_count": 31,
   "metadata": {},
   "outputs": [
    {
     "name": "stderr",
     "output_type": "stream",
     "text": [
      "/var/folders/gk/g_6gw4153wgc0_gxbmhvzmc40000gn/T/ipykernel_75714/1788297561.py:2: SettingWithCopyWarning: \n",
      "A value is trying to be set on a copy of a slice from a DataFrame\n",
      "\n",
      "See the caveats in the documentation: https://pandas.pydata.org/pandas-docs/stable/user_guide/indexing.html#returning-a-view-versus-a-copy\n",
      "  data_clean.drop(columns=['nb_car_non_alpha','content_clean_all_car','content_seq_all_car'],inplace=True,axis=1)\n"
     ]
    }
   ],
   "source": [
    "#Suppression des colonnes \n",
    "data_clean.drop(columns=['nb_car_non_alpha','content_clean_all_car','content_seq_all_car'],inplace=True,axis=1)"
   ]
  },
  {
   "cell_type": "code",
   "execution_count": 32,
   "metadata": {},
   "outputs": [],
   "source": [
    "#Suppression des colonnes \n",
    "data_clean_all_car.drop(columns=['nb_car_non_alpha','content_clean','content_seq','content_seq_len'],inplace=True,axis=1)\n",
    "#rename de la colonne\n",
    "data_clean_all_car.rename(columns={'content_clean_all_car':'content_clean','content_seq_all_car':'content_seq','content_seq_len_all_car':'content_seq_len'},inplace=True)"
   ]
  },
  {
   "cell_type": "code",
   "execution_count": 34,
   "metadata": {},
   "outputs": [
    {
     "data": {
      "text/html": [
       "<div>\n",
       "<style scoped>\n",
       "    .dataframe tbody tr th:only-of-type {\n",
       "        vertical-align: middle;\n",
       "    }\n",
       "\n",
       "    .dataframe tbody tr th {\n",
       "        vertical-align: top;\n",
       "    }\n",
       "\n",
       "    .dataframe thead th {\n",
       "        text-align: right;\n",
       "    }\n",
       "</style>\n",
       "<table border=\"1\" class=\"dataframe\">\n",
       "  <thead>\n",
       "    <tr style=\"text-align: right;\">\n",
       "      <th></th>\n",
       "      <th>target</th>\n",
       "      <th>content</th>\n",
       "      <th>content_clean</th>\n",
       "      <th>content_seq</th>\n",
       "      <th>content_seq_len</th>\n",
       "    </tr>\n",
       "  </thead>\n",
       "  <tbody>\n",
       "    <tr>\n",
       "      <th>0</th>\n",
       "      <td>ham</td>\n",
       "      <td>Go until jurong point, crazy.. Available only ...</td>\n",
       "      <td>jurong point , crazy .. available bugis n grea...</td>\n",
       "      <td>[31, 55, 77, 67]</td>\n",
       "      <td>4</td>\n",
       "    </tr>\n",
       "    <tr>\n",
       "      <th>1</th>\n",
       "      <td>ham</td>\n",
       "      <td>Ok lar... Joking wif u oni...</td>\n",
       "      <td>ok lar ... joke wif u oni ...</td>\n",
       "      <td>[8, 1]</td>\n",
       "      <td>2</td>\n",
       "    </tr>\n",
       "    <tr>\n",
       "      <th>2</th>\n",
       "      <td>spam</td>\n",
       "      <td>Free entry in 2 a wkly comp to win FA Cup fina...</td>\n",
       "      <td>free entry 2 wkly comp win fa cup final tkts 2...</td>\n",
       "      <td>[11, 2, 30, 18, 22, 89, 47]</td>\n",
       "      <td>7</td>\n",
       "    </tr>\n",
       "    <tr>\n",
       "      <th>3</th>\n",
       "      <td>ham</td>\n",
       "      <td>U dun say so early hor... U c already then say...</td>\n",
       "      <td>u dun early hor ... u c ...</td>\n",
       "      <td>[1, 1, 47]</td>\n",
       "      <td>3</td>\n",
       "    </tr>\n",
       "    <tr>\n",
       "      <th>4</th>\n",
       "      <td>ham</td>\n",
       "      <td>Nah I don't think he goes to usf, he lives aro...</td>\n",
       "      <td>nah think usf , live</td>\n",
       "      <td>[20]</td>\n",
       "      <td>1</td>\n",
       "    </tr>\n",
       "  </tbody>\n",
       "</table>\n",
       "</div>"
      ],
      "text/plain": [
       "  target                                            content  \\\n",
       "0    ham  Go until jurong point, crazy.. Available only ...   \n",
       "1    ham                      Ok lar... Joking wif u oni...   \n",
       "2   spam  Free entry in 2 a wkly comp to win FA Cup fina...   \n",
       "3    ham  U dun say so early hor... U c already then say...   \n",
       "4    ham  Nah I don't think he goes to usf, he lives aro...   \n",
       "\n",
       "                                       content_clean  \\\n",
       "0  jurong point , crazy .. available bugis n grea...   \n",
       "1                      ok lar ... joke wif u oni ...   \n",
       "2  free entry 2 wkly comp win fa cup final tkts 2...   \n",
       "3                        u dun early hor ... u c ...   \n",
       "4                               nah think usf , live   \n",
       "\n",
       "                   content_seq  content_seq_len  \n",
       "0             [31, 55, 77, 67]                4  \n",
       "1                       [8, 1]                2  \n",
       "2  [11, 2, 30, 18, 22, 89, 47]                7  \n",
       "3                   [1, 1, 47]                3  \n",
       "4                         [20]                1  "
      ]
     },
     "execution_count": 34,
     "metadata": {},
     "output_type": "execute_result"
    }
   ],
   "source": [
    "data_clean_all_car.head()"
   ]
  },
  {
   "cell_type": "code",
   "execution_count": 53,
   "metadata": {},
   "outputs": [],
   "source": [
    "#Padding des sequences encodée\n",
    "s_padded = tf.keras.preprocessing.sequence.pad_sequences(data_clean['content_seq'], padding=\"post\")\n",
    "s_padded_all_car = tf.keras.preprocessing.sequence.pad_sequences(data_clean_all_car['content_seq'], padding=\"post\")"
   ]
  },
  {
   "cell_type": "code",
   "execution_count": 36,
   "metadata": {},
   "outputs": [
    {
     "name": "stderr",
     "output_type": "stream",
     "text": [
      "/var/folders/gk/g_6gw4153wgc0_gxbmhvzmc40000gn/T/ipykernel_75714/4032631969.py:2: SettingWithCopyWarning: \n",
      "A value is trying to be set on a copy of a slice from a DataFrame.\n",
      "Try using .loc[row_indexer,col_indexer] = value instead\n",
      "\n",
      "See the caveats in the documentation: https://pandas.pydata.org/pandas-docs/stable/user_guide/indexing.html#returning-a-view-versus-a-copy\n",
      "  data_clean['num_target'] = 0\n"
     ]
    }
   ],
   "source": [
    "#Création target format numérique \n",
    "data_clean['num_target'] = 0\n",
    "data_clean.loc[data_clean['target'] == 'spam','num_target'] = 1\n",
    "data_clean_all_car['num_target'] = 0\n",
    "data_clean_all_car.loc[data_clean_all_car['target'] == 'spam','num_target'] = 1"
   ]
  },
  {
   "cell_type": "code",
   "execution_count": 38,
   "metadata": {},
   "outputs": [
    {
     "data": {
      "text/html": [
       "<div>\n",
       "<style scoped>\n",
       "    .dataframe tbody tr th:only-of-type {\n",
       "        vertical-align: middle;\n",
       "    }\n",
       "\n",
       "    .dataframe tbody tr th {\n",
       "        vertical-align: top;\n",
       "    }\n",
       "\n",
       "    .dataframe thead th {\n",
       "        text-align: right;\n",
       "    }\n",
       "</style>\n",
       "<table border=\"1\" class=\"dataframe\">\n",
       "  <thead>\n",
       "    <tr style=\"text-align: right;\">\n",
       "      <th></th>\n",
       "      <th>target</th>\n",
       "      <th>content</th>\n",
       "      <th>content_clean</th>\n",
       "      <th>content_seq</th>\n",
       "      <th>content_seq_len</th>\n",
       "      <th>num_target</th>\n",
       "    </tr>\n",
       "  </thead>\n",
       "  <tbody>\n",
       "    <tr>\n",
       "      <th>0</th>\n",
       "      <td>ham</td>\n",
       "      <td>Go until jurong point, crazy.. Available only ...</td>\n",
       "      <td>jurong point , crazy .. available bugis n grea...</td>\n",
       "      <td>[31, 55, 77, 67]</td>\n",
       "      <td>4</td>\n",
       "      <td>0</td>\n",
       "    </tr>\n",
       "    <tr>\n",
       "      <th>1</th>\n",
       "      <td>ham</td>\n",
       "      <td>Ok lar... Joking wif u oni...</td>\n",
       "      <td>ok lar ... joke wif u oni ...</td>\n",
       "      <td>[8, 1]</td>\n",
       "      <td>2</td>\n",
       "      <td>0</td>\n",
       "    </tr>\n",
       "    <tr>\n",
       "      <th>2</th>\n",
       "      <td>spam</td>\n",
       "      <td>Free entry in 2 a wkly comp to win FA Cup fina...</td>\n",
       "      <td>free entry 2 wkly comp win fa cup final tkts 2...</td>\n",
       "      <td>[11, 2, 30, 18, 22, 89, 47]</td>\n",
       "      <td>7</td>\n",
       "      <td>1</td>\n",
       "    </tr>\n",
       "    <tr>\n",
       "      <th>3</th>\n",
       "      <td>ham</td>\n",
       "      <td>U dun say so early hor... U c already then say...</td>\n",
       "      <td>u dun early hor ... u c ...</td>\n",
       "      <td>[1, 1, 47]</td>\n",
       "      <td>3</td>\n",
       "      <td>0</td>\n",
       "    </tr>\n",
       "    <tr>\n",
       "      <th>4</th>\n",
       "      <td>ham</td>\n",
       "      <td>Nah I don't think he goes to usf, he lives aro...</td>\n",
       "      <td>nah think usf , live</td>\n",
       "      <td>[20]</td>\n",
       "      <td>1</td>\n",
       "      <td>0</td>\n",
       "    </tr>\n",
       "  </tbody>\n",
       "</table>\n",
       "</div>"
      ],
      "text/plain": [
       "  target                                            content  \\\n",
       "0    ham  Go until jurong point, crazy.. Available only ...   \n",
       "1    ham                      Ok lar... Joking wif u oni...   \n",
       "2   spam  Free entry in 2 a wkly comp to win FA Cup fina...   \n",
       "3    ham  U dun say so early hor... U c already then say...   \n",
       "4    ham  Nah I don't think he goes to usf, he lives aro...   \n",
       "\n",
       "                                       content_clean  \\\n",
       "0  jurong point , crazy .. available bugis n grea...   \n",
       "1                      ok lar ... joke wif u oni ...   \n",
       "2  free entry 2 wkly comp win fa cup final tkts 2...   \n",
       "3                        u dun early hor ... u c ...   \n",
       "4                               nah think usf , live   \n",
       "\n",
       "                   content_seq  content_seq_len  num_target  \n",
       "0             [31, 55, 77, 67]                4           0  \n",
       "1                       [8, 1]                2           0  \n",
       "2  [11, 2, 30, 18, 22, 89, 47]                7           1  \n",
       "3                   [1, 1, 47]                3           0  \n",
       "4                         [20]                1           0  "
      ]
     },
     "execution_count": 38,
     "metadata": {},
     "output_type": "execute_result"
    }
   ],
   "source": [
    "data_clean_all_car.head()"
   ]
  },
  {
   "attachments": {},
   "cell_type": "markdown",
   "metadata": {},
   "source": [
    "## Test sans les caractères alphanum"
   ]
  },
  {
   "cell_type": "code",
   "execution_count": 40,
   "metadata": {},
   "outputs": [
    {
     "name": "stderr",
     "output_type": "stream",
     "text": [
      "2023-05-16 15:19:10.253464: I tensorflow/core/common_runtime/pluggable_device/pluggable_device_factory.cc:306] Could not identify NUMA node of platform GPU ID 0, defaulting to 0. Your kernel may not have been built with NUMA support.\n",
      "2023-05-16 15:19:10.253496: I tensorflow/core/common_runtime/pluggable_device/pluggable_device_factory.cc:272] Created TensorFlow device (/job:localhost/replica:0/task:0/device:GPU:0 with 0 MB memory) -> physical PluggableDevice (device: 0, name: METAL, pci bus id: <undefined>)\n"
     ]
    },
    {
     "name": "stdout",
     "output_type": "stream",
     "text": [
      "Metal device set to: Apple M1 Pro\n",
      "\n",
      "systemMemory: 32.00 GB\n",
      "maxCacheSize: 10.67 GB\n",
      "\n",
      "Model: \"sequential\"\n",
      "_________________________________________________________________\n",
      " Layer (type)                Output Shape              Param #   \n",
      "=================================================================\n",
      " embedding (Embedding)       (None, 33, 16)            1616      \n",
      "                                                                 \n",
      " global_average_pooling1d (G  (None, 16)               0         \n",
      " lobalAveragePooling1D)                                          \n",
      "                                                                 \n",
      " dense (Dense)               (None, 16)                272       \n",
      "                                                                 \n",
      " dense_1 (Dense)             (None, 1)                 17        \n",
      "                                                                 \n",
      "=================================================================\n",
      "Total params: 1,905\n",
      "Trainable params: 1,905\n",
      "Non-trainable params: 0\n",
      "_________________________________________________________________\n"
     ]
    }
   ],
   "source": [
    "#Séparation en train, test et validation set\n",
    "train_set,val_set,label_train_set,label_val_set = train_test_split(s_padded,data_clean['num_target'],test_size=0.1,stratify=data_clean['num_target'])\n",
    "train_set,test_set,label_train_set,label_test_set = train_test_split(train_set,label_train_set,test_size=0.2,stratify=label_train_set)\n",
    "\n",
    "# Création des tenseurs \n",
    "train_ds = tf.data.Dataset.from_tensor_slices((train_set,label_train_set))\n",
    "test_ds = tf.data.Dataset.from_tensor_slices((test_set,label_test_set))\n",
    "val_ds = tf.data.Dataset.from_tensor_slices((val_set,label_val_set))\n",
    "\n",
    "#Mélange des data et création de batch en 32\n",
    "train_ds = train_ds.shuffle(len(train_ds)).batch(32)\n",
    "test_ds = test_ds.batch(32)\n",
    "\n",
    "sms_text, lab = next(iter(train_ds))\n",
    "\n",
    "#Création du modèle\n",
    "embedding_dim=16 # the dimensionality of the representation space\n",
    "vocab_size = tokenizer.num_words # the number of words in the vocabulary\n",
    "model = Sequential([\n",
    "  Embedding(vocab_size+1, embedding_dim, name=\"embedding\",input_shape=[sms_text.shape[1],]), # the embedding layer\n",
    "  # the input dim needs to be equal to the size of the vocabulary + 1 (because of\n",
    "  # the zero padding)\n",
    "  GlobalAveragePooling1D(), # this will pick the average for every word in the sentence\n",
    "  # along each dimension of the representation space.\n",
    "  #Dense(32, activation='relu'), # a dense layer\n",
    "  Dense(16, activation='relu'), # a dense layer\n",
    "  Dense(1, activation=\"sigmoid\") # the prediction layer\n",
    "])\n",
    "\n",
    "model.summary()"
   ]
  },
  {
   "cell_type": "code",
   "execution_count": 41,
   "metadata": {},
   "outputs": [],
   "source": [
    "#On compile le modele (legacy utilisé car mac M1)\n",
    "model.compile(optimizer=tf.keras.optimizers.legacy.Adam(),\n",
    "              loss=tf.keras.losses.BinaryCrossentropy(),\n",
    "              metrics=tf.keras.metrics.BinaryAccuracy())"
   ]
  },
  {
   "cell_type": "code",
   "execution_count": 42,
   "metadata": {},
   "outputs": [
    {
     "name": "stdout",
     "output_type": "stream",
     "text": [
      "Epoch 1/50\n"
     ]
    },
    {
     "name": "stderr",
     "output_type": "stream",
     "text": [
      "2023-05-16 15:20:07.853564: W tensorflow/tsl/platform/profile_utils/cpu_utils.cc:128] Failed to get CPU frequency: 0 Hz\n",
      "2023-05-16 15:20:07.855067: I tensorflow/core/grappler/optimizers/custom_graph_optimizer_registry.cc:114] Plugin optimizer for device_type GPU is enabled.\n"
     ]
    },
    {
     "name": "stdout",
     "output_type": "stream",
     "text": [
      "105/105 [==============================] - ETA: 0s - loss: 0.5967 - binary_accuracy: 0.8464"
     ]
    },
    {
     "name": "stderr",
     "output_type": "stream",
     "text": [
      "2023-05-16 15:20:12.384800: I tensorflow/core/grappler/optimizers/custom_graph_optimizer_registry.cc:114] Plugin optimizer for device_type GPU is enabled.\n"
     ]
    },
    {
     "name": "stdout",
     "output_type": "stream",
     "text": [
      "105/105 [==============================] - 5s 20ms/step - loss: 0.5967 - binary_accuracy: 0.8464 - val_loss: 0.4769 - val_binary_accuracy: 0.8471\n",
      "Epoch 2/50\n",
      "105/105 [==============================] - 1s 12ms/step - loss: 0.4203 - binary_accuracy: 0.8464 - val_loss: 0.3992 - val_binary_accuracy: 0.8471\n",
      "Epoch 3/50\n",
      "105/105 [==============================] - 1s 12ms/step - loss: 0.3947 - binary_accuracy: 0.8464 - val_loss: 0.3857 - val_binary_accuracy: 0.8471\n",
      "Epoch 4/50\n",
      "105/105 [==============================] - 1s 12ms/step - loss: 0.3796 - binary_accuracy: 0.8464 - val_loss: 0.3684 - val_binary_accuracy: 0.8471\n",
      "Epoch 5/50\n",
      "105/105 [==============================] - 1s 12ms/step - loss: 0.3590 - binary_accuracy: 0.8464 - val_loss: 0.3416 - val_binary_accuracy: 0.8471\n",
      "Epoch 6/50\n",
      "105/105 [==============================] - 1s 12ms/step - loss: 0.3165 - binary_accuracy: 0.8551 - val_loss: 0.2805 - val_binary_accuracy: 0.8769\n",
      "Epoch 7/50\n",
      "105/105 [==============================] - 1s 11ms/step - loss: 0.2477 - binary_accuracy: 0.9008 - val_loss: 0.2157 - val_binary_accuracy: 0.9223\n",
      "Epoch 8/50\n",
      "105/105 [==============================] - 1s 11ms/step - loss: 0.1942 - binary_accuracy: 0.9277 - val_loss: 0.1804 - val_binary_accuracy: 0.9355\n",
      "Epoch 9/50\n",
      "105/105 [==============================] - 1s 11ms/step - loss: 0.1655 - binary_accuracy: 0.9390 - val_loss: 0.1621 - val_binary_accuracy: 0.9403\n",
      "Epoch 10/50\n",
      "105/105 [==============================] - 1s 11ms/step - loss: 0.1494 - binary_accuracy: 0.9459 - val_loss: 0.1508 - val_binary_accuracy: 0.9391\n",
      "Epoch 11/50\n",
      "105/105 [==============================] - 1s 11ms/step - loss: 0.1406 - binary_accuracy: 0.9504 - val_loss: 0.1426 - val_binary_accuracy: 0.9474\n",
      "Epoch 12/50\n",
      "105/105 [==============================] - 1s 11ms/step - loss: 0.1344 - binary_accuracy: 0.9504 - val_loss: 0.1369 - val_binary_accuracy: 0.9534\n",
      "Epoch 13/50\n",
      "105/105 [==============================] - 1s 12ms/step - loss: 0.1302 - binary_accuracy: 0.9534 - val_loss: 0.1336 - val_binary_accuracy: 0.9534\n",
      "Epoch 14/50\n",
      "105/105 [==============================] - 1s 11ms/step - loss: 0.1257 - binary_accuracy: 0.9564 - val_loss: 0.1322 - val_binary_accuracy: 0.9546\n",
      "Epoch 15/50\n",
      "105/105 [==============================] - 1s 11ms/step - loss: 0.1250 - binary_accuracy: 0.9552 - val_loss: 0.1286 - val_binary_accuracy: 0.9546\n",
      "Epoch 16/50\n",
      "105/105 [==============================] - 1s 11ms/step - loss: 0.1217 - binary_accuracy: 0.9549 - val_loss: 0.1270 - val_binary_accuracy: 0.9546\n",
      "Epoch 17/50\n",
      "105/105 [==============================] - 1s 11ms/step - loss: 0.1199 - binary_accuracy: 0.9573 - val_loss: 0.1266 - val_binary_accuracy: 0.9570\n",
      "Epoch 18/50\n",
      "105/105 [==============================] - 1s 11ms/step - loss: 0.1174 - binary_accuracy: 0.9588 - val_loss: 0.1255 - val_binary_accuracy: 0.9570\n",
      "Epoch 19/50\n",
      "105/105 [==============================] - 1s 11ms/step - loss: 0.1185 - binary_accuracy: 0.9597 - val_loss: 0.1238 - val_binary_accuracy: 0.9582\n",
      "Epoch 20/50\n",
      "105/105 [==============================] - 1s 11ms/step - loss: 0.1165 - binary_accuracy: 0.9579 - val_loss: 0.1243 - val_binary_accuracy: 0.9594\n",
      "Epoch 21/50\n",
      "105/105 [==============================] - 1s 11ms/step - loss: 0.1146 - binary_accuracy: 0.9606 - val_loss: 0.1223 - val_binary_accuracy: 0.9594\n",
      "Epoch 22/50\n",
      "105/105 [==============================] - 1s 11ms/step - loss: 0.1130 - binary_accuracy: 0.9609 - val_loss: 0.1215 - val_binary_accuracy: 0.9594\n",
      "Epoch 23/50\n",
      "105/105 [==============================] - 1s 11ms/step - loss: 0.1124 - binary_accuracy: 0.9609 - val_loss: 0.1253 - val_binary_accuracy: 0.9570\n",
      "Epoch 24/50\n",
      "105/105 [==============================] - 1s 11ms/step - loss: 0.1126 - binary_accuracy: 0.9600 - val_loss: 0.1238 - val_binary_accuracy: 0.9606\n",
      "Epoch 25/50\n",
      "105/105 [==============================] - 1s 11ms/step - loss: 0.1125 - binary_accuracy: 0.9612 - val_loss: 0.1212 - val_binary_accuracy: 0.9606\n",
      "Epoch 26/50\n",
      "105/105 [==============================] - 1s 11ms/step - loss: 0.1112 - binary_accuracy: 0.9609 - val_loss: 0.1209 - val_binary_accuracy: 0.9606\n",
      "Epoch 27/50\n",
      "105/105 [==============================] - 1s 11ms/step - loss: 0.1103 - binary_accuracy: 0.9609 - val_loss: 0.1202 - val_binary_accuracy: 0.9594\n",
      "Epoch 28/50\n",
      "105/105 [==============================] - 1s 11ms/step - loss: 0.1107 - binary_accuracy: 0.9618 - val_loss: 0.1197 - val_binary_accuracy: 0.9582\n",
      "Epoch 29/50\n",
      "105/105 [==============================] - 1s 11ms/step - loss: 0.1091 - binary_accuracy: 0.9609 - val_loss: 0.1241 - val_binary_accuracy: 0.9582\n",
      "Epoch 30/50\n",
      "105/105 [==============================] - 1s 11ms/step - loss: 0.1090 - binary_accuracy: 0.9624 - val_loss: 0.1224 - val_binary_accuracy: 0.9606\n",
      "Epoch 31/50\n",
      "105/105 [==============================] - 1s 11ms/step - loss: 0.1087 - binary_accuracy: 0.9603 - val_loss: 0.1197 - val_binary_accuracy: 0.9618\n",
      "Epoch 32/50\n",
      "105/105 [==============================] - 1s 11ms/step - loss: 0.1085 - binary_accuracy: 0.9615 - val_loss: 0.1214 - val_binary_accuracy: 0.9594\n",
      "Epoch 33/50\n",
      "105/105 [==============================] - 1s 11ms/step - loss: 0.1081 - binary_accuracy: 0.9612 - val_loss: 0.1201 - val_binary_accuracy: 0.9630\n",
      "Epoch 34/50\n",
      "105/105 [==============================] - 1s 11ms/step - loss: 0.1100 - binary_accuracy: 0.9612 - val_loss: 0.1207 - val_binary_accuracy: 0.9594\n",
      "Epoch 35/50\n",
      "105/105 [==============================] - 1s 11ms/step - loss: 0.1071 - binary_accuracy: 0.9600 - val_loss: 0.1203 - val_binary_accuracy: 0.9594\n",
      "Epoch 36/50\n",
      "105/105 [==============================] - 1s 11ms/step - loss: 0.1078 - binary_accuracy: 0.9612 - val_loss: 0.1223 - val_binary_accuracy: 0.9582\n",
      "Epoch 37/50\n",
      "105/105 [==============================] - 1s 11ms/step - loss: 0.1081 - binary_accuracy: 0.9624 - val_loss: 0.1210 - val_binary_accuracy: 0.9594\n",
      "Epoch 38/50\n",
      "105/105 [==============================] - 1s 11ms/step - loss: 0.1075 - binary_accuracy: 0.9612 - val_loss: 0.1216 - val_binary_accuracy: 0.9582\n",
      "Epoch 39/50\n",
      "105/105 [==============================] - 1s 11ms/step - loss: 0.1066 - binary_accuracy: 0.9606 - val_loss: 0.1201 - val_binary_accuracy: 0.9594\n",
      "Epoch 40/50\n",
      "105/105 [==============================] - 1s 11ms/step - loss: 0.1072 - binary_accuracy: 0.9606 - val_loss: 0.1208 - val_binary_accuracy: 0.9618\n",
      "Epoch 41/50\n",
      "105/105 [==============================] - 1s 11ms/step - loss: 0.1062 - binary_accuracy: 0.9621 - val_loss: 0.1213 - val_binary_accuracy: 0.9594\n",
      "Epoch 42/50\n",
      "105/105 [==============================] - 1s 11ms/step - loss: 0.1063 - binary_accuracy: 0.9594 - val_loss: 0.1220 - val_binary_accuracy: 0.9642\n",
      "Epoch 43/50\n",
      "105/105 [==============================] - 1s 11ms/step - loss: 0.1071 - binary_accuracy: 0.9603 - val_loss: 0.1208 - val_binary_accuracy: 0.9618\n",
      "Epoch 44/50\n",
      "105/105 [==============================] - 1s 11ms/step - loss: 0.1068 - binary_accuracy: 0.9624 - val_loss: 0.1209 - val_binary_accuracy: 0.9630\n",
      "Epoch 45/50\n",
      "105/105 [==============================] - 1s 11ms/step - loss: 0.1062 - binary_accuracy: 0.9609 - val_loss: 0.1215 - val_binary_accuracy: 0.9618\n",
      "Epoch 46/50\n",
      "105/105 [==============================] - 1s 11ms/step - loss: 0.1056 - binary_accuracy: 0.9621 - val_loss: 0.1228 - val_binary_accuracy: 0.9558\n",
      "Epoch 47/50\n",
      "105/105 [==============================] - 1s 11ms/step - loss: 0.1051 - binary_accuracy: 0.9624 - val_loss: 0.1250 - val_binary_accuracy: 0.9558\n",
      "Epoch 48/50\n",
      "105/105 [==============================] - 1s 11ms/step - loss: 0.1056 - binary_accuracy: 0.9618 - val_loss: 0.1217 - val_binary_accuracy: 0.9630\n",
      "Epoch 49/50\n",
      "105/105 [==============================] - 1s 11ms/step - loss: 0.1057 - binary_accuracy: 0.9615 - val_loss: 0.1288 - val_binary_accuracy: 0.9558\n",
      "Epoch 50/50\n",
      "105/105 [==============================] - 1s 11ms/step - loss: 0.1064 - binary_accuracy: 0.9609 - val_loss: 0.1221 - val_binary_accuracy: 0.9594\n"
     ]
    },
    {
     "data": {
      "text/plain": [
       "<keras.callbacks.History at 0x2e7a2fb20>"
      ]
     },
     "execution_count": 42,
     "metadata": {},
     "output_type": "execute_result"
    }
   ],
   "source": [
    "#Entrainement \n",
    "model.fit(train_ds,\n",
    "          epochs=50, \n",
    "          validation_data=test_ds)"
   ]
  },
  {
   "cell_type": "code",
   "execution_count": 43,
   "metadata": {},
   "outputs": [
    {
     "data": {
      "image/png": "[encoded data removed]",
      "text/plain": [
       "<Figure size 640x480 with 1 Axes>"
      ]
     },
     "metadata": {},
     "output_type": "display_data"
    }
   ],
   "source": [
    "#Trace la courbe d'accuracy\n",
    "plt.plot(model.history.history[\"binary_accuracy\"], c=\"r\", label=\"train\")\n",
    "plt.plot(model.history.history[\"val_binary_accuracy\"], c=\"b\", label=\"test\")\n",
    "plt.legend(loc=\"upper left\")\n",
    "plt.show()"
   ]
  },
  {
   "cell_type": "code",
   "execution_count": null,
   "metadata": {},
   "outputs": [],
   "source": [
    "#Le model converge assez vite, 15 epochs auraient suffit "
   ]
  },
  {
   "cell_type": "code",
   "execution_count": 44,
   "metadata": {},
   "outputs": [
    {
     "data": {
      "image/png": "[encoded data removed]",
      "text/plain": [
       "<Figure size 640x480 with 1 Axes>"
      ]
     },
     "metadata": {},
     "output_type": "display_data"
    }
   ],
   "source": [
    "# Trace la loss\n",
    "plt.plot(model.history.history[\"loss\"], c=\"r\", label=\"train_loss\")\n",
    "plt.plot(model.history.history[\"val_loss\"], c=\"b\", label=\"test_loss\")\n",
    "plt.legend(loc=\"upper left\")\n",
    "plt.show()"
   ]
  },
  {
   "cell_type": "code",
   "execution_count": null,
   "metadata": {},
   "outputs": [],
   "source": [
    "#même constat"
   ]
  },
  {
   "cell_type": "code",
   "execution_count": 51,
   "metadata": {},
   "outputs": [
    {
     "name": "stdout",
     "output_type": "stream",
     "text": [
      "27/27 [==============================] - 0s 3ms/step\n"
     ]
    },
    {
     "name": "stderr",
     "output_type": "stream",
     "text": [
      "2023-05-16 15:29:05.949382: I tensorflow/core/grappler/optimizers/custom_graph_optimizer_registry.cc:114] Plugin optimizer for device_type GPU is enabled.\n"
     ]
    },
    {
     "data": {
      "text/plain": [
       "{'description': 'WordEMB sans alphanum',\n",
       " 'accuracy': 0.959378733572282,\n",
       " 'precision': 0.9607843137254902,\n",
       " 'recall': 0.765625,\n",
       " 'f1-score': 0.8521739130434782}"
      ]
     },
     "execution_count": 51,
     "metadata": {},
     "output_type": "execute_result"
    }
   ],
   "source": [
    "evaluate_model('WordEMB sans alphanum',model, test_set, label_test_set)"
   ]
  },
  {
   "attachments": {},
   "cell_type": "markdown",
   "metadata": {},
   "source": [
    "## Test avec les alphanums"
   ]
  },
  {
   "cell_type": "code",
   "execution_count": 60,
   "metadata": {},
   "outputs": [
    {
     "name": "stdout",
     "output_type": "stream",
     "text": [
      "Model: \"sequential_1\"\n",
      "_________________________________________________________________\n",
      " Layer (type)                Output Shape              Param #   \n",
      "=================================================================\n",
      " embedding (Embedding)       (None, 47, 16)            1616      \n",
      "                                                                 \n",
      " global_average_pooling1d_1   (None, 16)               0         \n",
      " (GlobalAveragePooling1D)                                        \n",
      "                                                                 \n",
      " dense_2 (Dense)             (None, 16)                272       \n",
      "                                                                 \n",
      " dense_3 (Dense)             (None, 1)                 17        \n",
      "                                                                 \n",
      "=================================================================\n",
      "Total params: 1,905\n",
      "Trainable params: 1,905\n",
      "Non-trainable params: 0\n",
      "_________________________________________________________________\n"
     ]
    }
   ],
   "source": [
    "#Séparation en train, test et validation set\n",
    "train_set,val_set,label_train_set,label_val_set = train_test_split(s_padded_all_car,data_clean_all_car['num_target'],test_size=0.1,stratify=data_clean_all_car['num_target'])\n",
    "train_set,test_set,label_train_set,label_test_set = train_test_split(train_set,label_train_set,test_size=0.2,stratify=label_train_set)\n",
    "\n",
    "# Création des tenseurs \n",
    "train_ds = tf.data.Dataset.from_tensor_slices((train_set,label_train_set))\n",
    "test_ds = tf.data.Dataset.from_tensor_slices((test_set,label_test_set))\n",
    "val_ds = tf.data.Dataset.from_tensor_slices((val_set,label_val_set))\n",
    "\n",
    "#Mélange des data et création de batch en 32\n",
    "train_ds = train_ds.shuffle(len(train_ds)).batch(32)\n",
    "test_ds = test_ds.batch(32)\n",
    "\n",
    "sms_text, lab = next(iter(train_ds))\n",
    "\n",
    "#Création du modèle\n",
    "embedding_dim=16 # the dimensionality of the representation space\n",
    "vocab_size = tokenizer_all_car.num_words # the number of words in the vocabulary\n",
    "model_all_car = Sequential([\n",
    "  Embedding(vocab_size+1, embedding_dim, name=\"embedding\",input_shape=[sms_text.shape[1],]), # the embedding layer\n",
    "  # the input dim needs to be equal to the size of the vocabulary + 1 (because of\n",
    "  # the zero padding)\n",
    "  GlobalAveragePooling1D(), # this will pick the average for every word in the sentence\n",
    "  # along each dimension of the representation space.\n",
    "  #Dense(32, activation='relu'), # a dense layer\n",
    "  Dense(16, activation='relu'), # a dense layer\n",
    "  Dense(1, activation=\"sigmoid\") # the prediction layer\n",
    "])\n",
    "\n",
    "model_all_car.summary()"
   ]
  },
  {
   "cell_type": "code",
   "execution_count": 61,
   "metadata": {},
   "outputs": [],
   "source": [
    "#On compile le modele (legacy utilisé car mac M1)\n",
    "model_all_car.compile(optimizer=tf.keras.optimizers.legacy.Adam(),\n",
    "              loss=tf.keras.losses.BinaryCrossentropy(),\n",
    "              metrics=tf.keras.metrics.BinaryAccuracy())"
   ]
  },
  {
   "cell_type": "code",
   "execution_count": 62,
   "metadata": {},
   "outputs": [
    {
     "name": "stdout",
     "output_type": "stream",
     "text": [
      "Epoch 1/50\n"
     ]
    },
    {
     "name": "stderr",
     "output_type": "stream",
     "text": [
      "2023-05-16 15:33:32.677273: I tensorflow/core/grappler/optimizers/custom_graph_optimizer_registry.cc:114] Plugin optimizer for device_type GPU is enabled.\n"
     ]
    },
    {
     "name": "stdout",
     "output_type": "stream",
     "text": [
      "126/126 [==============================] - ETA: 0s - loss: 0.5529 - binary_accuracy: 0.8651"
     ]
    },
    {
     "name": "stderr",
     "output_type": "stream",
     "text": [
      "2023-05-16 15:33:35.018833: I tensorflow/core/grappler/optimizers/custom_graph_optimizer_registry.cc:114] Plugin optimizer for device_type GPU is enabled.\n"
     ]
    },
    {
     "name": "stdout",
     "output_type": "stream",
     "text": [
      "126/126 [==============================] - 3s 18ms/step - loss: 0.5529 - binary_accuracy: 0.8651 - val_loss: 0.4084 - val_binary_accuracy: 0.8664\n",
      "Epoch 2/50\n",
      "126/126 [==============================] - 2s 12ms/step - loss: 0.3790 - binary_accuracy: 0.8659 - val_loss: 0.3672 - val_binary_accuracy: 0.8664\n",
      "Epoch 3/50\n",
      "126/126 [==============================] - 1s 11ms/step - loss: 0.3631 - binary_accuracy: 0.8659 - val_loss: 0.3538 - val_binary_accuracy: 0.8664\n",
      "Epoch 4/50\n",
      "126/126 [==============================] - 2s 12ms/step - loss: 0.3436 - binary_accuracy: 0.8659 - val_loss: 0.3263 - val_binary_accuracy: 0.8664\n",
      "Epoch 5/50\n",
      "126/126 [==============================] - 2s 12ms/step - loss: 0.3053 - binary_accuracy: 0.8696 - val_loss: 0.2778 - val_binary_accuracy: 0.8824\n",
      "Epoch 6/50\n",
      "126/126 [==============================] - 2s 13ms/step - loss: 0.2510 - binary_accuracy: 0.8920 - val_loss: 0.2254 - val_binary_accuracy: 0.9143\n",
      "Epoch 7/50\n",
      "126/126 [==============================] - 2s 12ms/step - loss: 0.2027 - binary_accuracy: 0.9242 - val_loss: 0.1888 - val_binary_accuracy: 0.9302\n",
      "Epoch 8/50\n",
      "126/126 [==============================] - 2s 14ms/step - loss: 0.1681 - binary_accuracy: 0.9422 - val_loss: 0.1691 - val_binary_accuracy: 0.9372\n",
      "Epoch 9/50\n",
      "126/126 [==============================] - 2s 13ms/step - loss: 0.1484 - binary_accuracy: 0.9484 - val_loss: 0.1521 - val_binary_accuracy: 0.9462\n",
      "Epoch 10/50\n",
      "126/126 [==============================] - 2s 13ms/step - loss: 0.1351 - binary_accuracy: 0.9556 - val_loss: 0.1437 - val_binary_accuracy: 0.9511\n",
      "Epoch 11/50\n",
      "126/126 [==============================] - 2s 13ms/step - loss: 0.1276 - binary_accuracy: 0.9569 - val_loss: 0.1379 - val_binary_accuracy: 0.9531\n",
      "Epoch 12/50\n",
      "126/126 [==============================] - 2s 13ms/step - loss: 0.1206 - binary_accuracy: 0.9614 - val_loss: 0.1377 - val_binary_accuracy: 0.9541\n",
      "Epoch 13/50\n",
      "126/126 [==============================] - 2s 13ms/step - loss: 0.1182 - binary_accuracy: 0.9616 - val_loss: 0.1299 - val_binary_accuracy: 0.9551\n",
      "Epoch 14/50\n",
      "126/126 [==============================] - 2s 13ms/step - loss: 0.1123 - binary_accuracy: 0.9631 - val_loss: 0.1267 - val_binary_accuracy: 0.9571\n",
      "Epoch 15/50\n",
      "126/126 [==============================] - 2s 13ms/step - loss: 0.1097 - binary_accuracy: 0.9634 - val_loss: 0.1245 - val_binary_accuracy: 0.9571\n",
      "Epoch 16/50\n",
      "126/126 [==============================] - 2s 13ms/step - loss: 0.1079 - binary_accuracy: 0.9631 - val_loss: 0.1226 - val_binary_accuracy: 0.9571\n",
      "Epoch 17/50\n",
      "126/126 [==============================] - 2s 13ms/step - loss: 0.1054 - binary_accuracy: 0.9638 - val_loss: 0.1233 - val_binary_accuracy: 0.9581\n",
      "Epoch 18/50\n",
      "126/126 [==============================] - 2s 13ms/step - loss: 0.1035 - binary_accuracy: 0.9629 - val_loss: 0.1194 - val_binary_accuracy: 0.9571\n",
      "Epoch 19/50\n",
      "126/126 [==============================] - 2s 13ms/step - loss: 0.1024 - binary_accuracy: 0.9634 - val_loss: 0.1184 - val_binary_accuracy: 0.9581\n",
      "Epoch 20/50\n",
      "126/126 [==============================] - 2s 13ms/step - loss: 0.1010 - binary_accuracy: 0.9636 - val_loss: 0.1172 - val_binary_accuracy: 0.9591\n",
      "Epoch 21/50\n",
      "126/126 [==============================] - 2s 14ms/step - loss: 0.0997 - binary_accuracy: 0.9641 - val_loss: 0.1163 - val_binary_accuracy: 0.9601\n",
      "Epoch 22/50\n",
      "126/126 [==============================] - 2s 14ms/step - loss: 0.0988 - binary_accuracy: 0.9653 - val_loss: 0.1155 - val_binary_accuracy: 0.9611\n",
      "Epoch 23/50\n",
      "126/126 [==============================] - 2s 13ms/step - loss: 0.0978 - binary_accuracy: 0.9663 - val_loss: 0.1153 - val_binary_accuracy: 0.9611\n",
      "Epoch 24/50\n",
      "126/126 [==============================] - 2s 13ms/step - loss: 0.0975 - binary_accuracy: 0.9663 - val_loss: 0.1145 - val_binary_accuracy: 0.9651\n",
      "Epoch 25/50\n",
      "126/126 [==============================] - 1s 12ms/step - loss: 0.0963 - binary_accuracy: 0.9661 - val_loss: 0.1138 - val_binary_accuracy: 0.9621\n",
      "Epoch 26/50\n",
      "126/126 [==============================] - 2s 12ms/step - loss: 0.0963 - binary_accuracy: 0.9681 - val_loss: 0.1147 - val_binary_accuracy: 0.9611\n",
      "Epoch 27/50\n",
      "126/126 [==============================] - 2s 12ms/step - loss: 0.0960 - binary_accuracy: 0.9686 - val_loss: 0.1235 - val_binary_accuracy: 0.9661\n",
      "Epoch 28/50\n",
      "126/126 [==============================] - 2s 12ms/step - loss: 0.0960 - binary_accuracy: 0.9691 - val_loss: 0.1144 - val_binary_accuracy: 0.9681\n",
      "Epoch 29/50\n",
      "126/126 [==============================] - 2s 13ms/step - loss: 0.0949 - binary_accuracy: 0.9698 - val_loss: 0.1152 - val_binary_accuracy: 0.9621\n",
      "Epoch 30/50\n",
      "126/126 [==============================] - 2s 12ms/step - loss: 0.0941 - binary_accuracy: 0.9698 - val_loss: 0.1200 - val_binary_accuracy: 0.9621\n",
      "Epoch 31/50\n",
      "126/126 [==============================] - 2s 12ms/step - loss: 0.0952 - binary_accuracy: 0.9703 - val_loss: 0.1123 - val_binary_accuracy: 0.9681\n",
      "Epoch 32/50\n",
      "126/126 [==============================] - 2s 13ms/step - loss: 0.0947 - binary_accuracy: 0.9696 - val_loss: 0.1125 - val_binary_accuracy: 0.9681\n",
      "Epoch 33/50\n",
      "126/126 [==============================] - 1s 12ms/step - loss: 0.0936 - binary_accuracy: 0.9713 - val_loss: 0.1113 - val_binary_accuracy: 0.9701\n",
      "Epoch 34/50\n",
      "126/126 [==============================] - 2s 13ms/step - loss: 0.0935 - binary_accuracy: 0.9691 - val_loss: 0.1112 - val_binary_accuracy: 0.9701\n",
      "Epoch 35/50\n",
      "126/126 [==============================] - 2s 12ms/step - loss: 0.0928 - binary_accuracy: 0.9726 - val_loss: 0.1126 - val_binary_accuracy: 0.9681\n",
      "Epoch 36/50\n",
      "126/126 [==============================] - 1s 11ms/step - loss: 0.0924 - binary_accuracy: 0.9713 - val_loss: 0.1113 - val_binary_accuracy: 0.9681\n",
      "Epoch 37/50\n",
      "126/126 [==============================] - 1s 10ms/step - loss: 0.0921 - binary_accuracy: 0.9698 - val_loss: 0.1144 - val_binary_accuracy: 0.9691\n",
      "Epoch 38/50\n",
      "126/126 [==============================] - 1s 10ms/step - loss: 0.0932 - binary_accuracy: 0.9723 - val_loss: 0.1111 - val_binary_accuracy: 0.9681\n",
      "Epoch 39/50\n",
      "126/126 [==============================] - 1s 10ms/step - loss: 0.0920 - binary_accuracy: 0.9713 - val_loss: 0.1108 - val_binary_accuracy: 0.9691\n",
      "Epoch 40/50\n",
      "126/126 [==============================] - 1s 10ms/step - loss: 0.0918 - binary_accuracy: 0.9718 - val_loss: 0.1110 - val_binary_accuracy: 0.9701\n",
      "Epoch 41/50\n",
      "126/126 [==============================] - 1s 11ms/step - loss: 0.0920 - binary_accuracy: 0.9723 - val_loss: 0.1105 - val_binary_accuracy: 0.9701\n",
      "Epoch 42/50\n",
      "126/126 [==============================] - 1s 11ms/step - loss: 0.0921 - binary_accuracy: 0.9713 - val_loss: 0.1108 - val_binary_accuracy: 0.9701\n",
      "Epoch 43/50\n",
      "126/126 [==============================] - 2s 13ms/step - loss: 0.0914 - binary_accuracy: 0.9743 - val_loss: 0.1109 - val_binary_accuracy: 0.9681\n",
      "Epoch 44/50\n",
      "126/126 [==============================] - 2s 13ms/step - loss: 0.0913 - binary_accuracy: 0.9731 - val_loss: 0.1106 - val_binary_accuracy: 0.9701\n",
      "Epoch 45/50\n",
      "126/126 [==============================] - 1s 11ms/step - loss: 0.0908 - binary_accuracy: 0.9741 - val_loss: 0.1104 - val_binary_accuracy: 0.9711\n",
      "Epoch 46/50\n",
      "126/126 [==============================] - 1s 11ms/step - loss: 0.0905 - binary_accuracy: 0.9741 - val_loss: 0.1111 - val_binary_accuracy: 0.9691\n",
      "Epoch 47/50\n",
      "126/126 [==============================] - 1s 11ms/step - loss: 0.0914 - binary_accuracy: 0.9736 - val_loss: 0.1115 - val_binary_accuracy: 0.9701\n",
      "Epoch 48/50\n",
      "126/126 [==============================] - 2s 13ms/step - loss: 0.0907 - binary_accuracy: 0.9741 - val_loss: 0.1107 - val_binary_accuracy: 0.9701\n",
      "Epoch 49/50\n",
      "126/126 [==============================] - 1s 11ms/step - loss: 0.0905 - binary_accuracy: 0.9733 - val_loss: 0.1118 - val_binary_accuracy: 0.9701\n",
      "Epoch 50/50\n",
      "126/126 [==============================] - 1s 12ms/step - loss: 0.0900 - binary_accuracy: 0.9743 - val_loss: 0.1122 - val_binary_accuracy: 0.9681\n"
     ]
    },
    {
     "data": {
      "text/plain": [
       "<keras.callbacks.History at 0x31bed1d80>"
      ]
     },
     "execution_count": 62,
     "metadata": {},
     "output_type": "execute_result"
    }
   ],
   "source": [
    "#Entrainement \n",
    "model_all_car.fit(train_ds,\n",
    "          epochs=50, \n",
    "          validation_data=test_ds)"
   ]
  },
  {
   "cell_type": "code",
   "execution_count": 63,
   "metadata": {},
   "outputs": [
    {
     "data": {
      "image/png": "[encoded data removed]",
      "text/plain": [
       "<Figure size 640x480 with 1 Axes>"
      ]
     },
     "metadata": {},
     "output_type": "display_data"
    }
   ],
   "source": [
    "#Trace la courbe d'accuracy\n",
    "plt.plot(model_all_car.history.history[\"binary_accuracy\"], c=\"r\", label=\"train\")\n",
    "plt.plot(model_all_car.history.history[\"val_binary_accuracy\"], c=\"b\", label=\"test\")\n",
    "plt.legend(loc=\"upper left\")\n",
    "plt.show()"
   ]
  },
  {
   "cell_type": "code",
   "execution_count": 64,
   "metadata": {},
   "outputs": [
    {
     "data": {
      "image/png": "[encoded data removed]",
      "text/plain": [
       "<Figure size 640x480 with 1 Axes>"
      ]
     },
     "metadata": {},
     "output_type": "display_data"
    }
   ],
   "source": [
    "# Trace la loss\n",
    "plt.plot(model_all_car.history.history[\"loss\"], c=\"r\", label=\"train_loss\")\n",
    "plt.plot(model_all_car.history.history[\"val_loss\"], c=\"b\", label=\"test_loss\")\n",
    "plt.legend(loc=\"upper left\")\n",
    "plt.show()"
   ]
  },
  {
   "cell_type": "code",
   "execution_count": 65,
   "metadata": {},
   "outputs": [
    {
     "name": "stdout",
     "output_type": "stream",
     "text": [
      "32/32 [==============================] - 0s 3ms/step\n"
     ]
    },
    {
     "name": "stderr",
     "output_type": "stream",
     "text": [
      "2023-05-16 15:36:43.080625: I tensorflow/core/grappler/optimizers/custom_graph_optimizer_registry.cc:114] Plugin optimizer for device_type GPU is enabled.\n"
     ]
    },
    {
     "data": {
      "text/plain": [
       "{'description': 'WordEMB avec alphanum',\n",
       " 'accuracy': 0.9680957128614157,\n",
       " 'precision': 0.9396551724137931,\n",
       " 'recall': 0.8134328358208955,\n",
       " 'f1-score': 0.872}"
      ]
     },
     "execution_count": 65,
     "metadata": {},
     "output_type": "execute_result"
    }
   ],
   "source": [
    "evaluate_model('WordEMB avec alphanum',model_all_car, test_set, label_test_set)"
   ]
  },
  {
   "cell_type": "code",
   "execution_count": null,
   "metadata": {},
   "outputs": [],
   "source": [
    "#{'description': 'WordEMB sans alphanum',\n",
    "# 'accuracy': 0.959378733572282,\n",
    "# 'precision': 0.9607843137254902,\n",
    "# 'recall': 0.765625,\n",
    "# 'f1-score': 0.8521739130434782}"
   ]
  },
  {
   "attachments": {},
   "cell_type": "markdown",
   "metadata": {},
   "source": [
    "Le model semble être un peu meilleurs sauf en recall. Etant donné le mode de calcul (TP/(TP+FN)), on peut facilement déduire qu'il y a une différence de classement de certain spam, regardons les confusions matrix des deux modèles"
   ]
  },
  {
   "cell_type": "code",
   "execution_count": 66,
   "metadata": {},
   "outputs": [
    {
     "name": "stdout",
     "output_type": "stream",
     "text": [
      "32/32 [==============================] - 0s 3ms/step\n"
     ]
    },
    {
     "name": "stderr",
     "output_type": "stream",
     "text": [
      "2023-05-16 15:40:22.971338: I tensorflow/core/grappler/optimizers/custom_graph_optimizer_registry.cc:114] Plugin optimizer for device_type GPU is enabled.\n"
     ]
    },
    {
     "data": {
      "image/png": "[encoded data removed]",
      "text/plain": [
       "<Figure size 640x480 with 2 Axes>"
      ]
     },
     "metadata": {},
     "output_type": "display_data"
    }
   ],
   "source": [
    "#disp = ConfusionMatrixDisplay\n",
    "cm = confusion_matrix(label_test_set, np.round(model.predict(test_set)))\n",
    "disp = ConfusionMatrixDisplay(confusion_matrix=cm)\n",
    "disp.plot()\n",
    "plt.show()"
   ]
  },
  {
   "cell_type": "code",
   "execution_count": 68,
   "metadata": {},
   "outputs": [
    {
     "name": "stdout",
     "output_type": "stream",
     "text": [
      "32/32 [==============================] - 0s 2ms/step\n"
     ]
    },
    {
     "data": {
      "image/png": "[encoded data removed]",
      "text/plain": [
       "<Figure size 640x480 with 2 Axes>"
      ]
     },
     "metadata": {},
     "output_type": "display_data"
    }
   ],
   "source": [
    "#disp = ConfusionMatrixDisplay\n",
    "cm_all_car = confusion_matrix(label_test_set, np.round(model_all_car.predict(test_set)))\n",
    "disp_all_car = ConfusionMatrixDisplay(confusion_matrix=cm_all_car)\n",
    "disp_all_car.plot()\n",
    "plt.show()"
   ]
  },
  {
   "attachments": {},
   "cell_type": "markdown",
   "metadata": {},
   "source": [
    "en comparant les deux modèles c'est sans equivoque. Nous avons 32 erreurs de classement sur 1000 lignes, tout à l'heure nous étions à 154. \n",
    "Le second model sera beaucoup plus adapté à ce que nous souhaitons car l'utilisateur recevra 862 messages qui ne sont pas des spams \n",
    "109 iront directement à la poubelle et l'utilisateurs aura 32 action à faire pour continuer à faire apprendre le modèle dans le cas ou nous serions en reinforcement learning. \n",
    "Nous avons quand même un bon score."
   ]
  },
  {
   "cell_type": "code",
   "execution_count": null,
   "metadata": {},
   "outputs": [],
   "source": []
  },
  {
   "attachments": {},
   "cell_type": "markdown",
   "metadata": {},
   "source": [
    "# Transfer Learning Universal Sentence Encoder"
   ]
  },
  {
   "cell_type": "code",
   "execution_count": 83,
   "metadata": {},
   "outputs": [
    {
     "name": "stderr",
     "output_type": "stream",
     "text": [
      "2023-05-16 16:04:30.453573: I tensorflow/core/grappler/optimizers/custom_graph_optimizer_registry.cc:114] Plugin optimizer for device_type GPU is enabled.\n"
     ]
    },
    {
     "name": "stdout",
     "output_type": "stream",
     "text": [
      "Model: \"sequential_5\"\n",
      "_________________________________________________________________\n",
      " Layer (type)                Output Shape              Param #   \n",
      "=================================================================\n",
      " USE (KerasLayer)            (None, 512)               256797824 \n",
      "                                                                 \n",
      " dense_6 (Dense)             (None, 16)                8208      \n",
      "                                                                 \n",
      " dense_7 (Dense)             (None, 1)                 17        \n",
      "                                                                 \n",
      "=================================================================\n",
      "Total params: 256,806,049\n",
      "Trainable params: 8,225\n",
      "Non-trainable params: 256,797,824\n",
      "_________________________________________________________________\n"
     ]
    }
   ],
   "source": [
    "#Creation d'un model sequentiel\n",
    "model_USE = tf.keras.Sequential()\n",
    "\n",
    "#Transfert Learning \n",
    "use_layer = hub.KerasLayer(\"https://tfhub.dev/google/universal-sentence-encoder/4\",\n",
    "\t\t\t\t\t\ttrainable=False,\n",
    "\t\t\t\t\t\tinput_shape=[],\n",
    "\t\t\t\t\t\tdtype=tf.string,\n",
    "\t\t\t\t\t\tname='USE')\n",
    "\n",
    "model_USE.add(use_layer)\n",
    "model_USE.add(tf.keras.layers.Dense(16, activation='relu')), # a dense layer\n",
    "model_USE.add(tf.keras.layers.Dense(1, activation=\"sigmoid\")) # the prediction layer\n",
    "\n",
    "#On compile le modele (legacy utilisé car mac M1)\n",
    "model_USE.compile(optimizer=tf.keras.optimizers.legacy.Adam(),\n",
    "              loss=tf.keras.losses.BinaryCrossentropy(),\n",
    "              metrics=tf.keras.metrics.BinaryAccuracy())\n",
    "\n",
    "model_USE.summary()\n"
   ]
  },
  {
   "attachments": {},
   "cell_type": "markdown",
   "metadata": {},
   "source": [
    "On voit le transfert learning avec 256,797,824 non entrainable \n"
   ]
  },
  {
   "cell_type": "code",
   "execution_count": 75,
   "metadata": {},
   "outputs": [],
   "source": [
    "#Le modele USE n'a pas besoin de token, nous pouvons lui envoyer les phrases directement\n",
    "#Séparation en train, test et validation set\n",
    "train_set,val_set,label_train_set,label_val_set = train_test_split(data_clean['content_clean'],data_clean['num_target'],test_size=0.1,stratify=data_clean['num_target'])\n",
    "train_set,test_set,label_train_set,label_test_set = train_test_split(train_set,label_train_set,test_size=0.2,stratify=label_train_set)\n"
   ]
  },
  {
   "cell_type": "code",
   "execution_count": 79,
   "metadata": {},
   "outputs": [
    {
     "data": {
      "text/plain": [
       "(465,)"
      ]
     },
     "execution_count": 79,
     "metadata": {},
     "output_type": "execute_result"
    }
   ],
   "source": [
    "label_val_set.shape"
   ]
  },
  {
   "cell_type": "code",
   "execution_count": 81,
   "metadata": {},
   "outputs": [
    {
     "data": {
      "text/plain": [
       "4862    bored housewife chat n date 08717507711 btnati...\n",
       "3240                 ok send u da late version da project\n",
       "3291                          dear good morning feel dear\n",
       "2590    lol member aunt flow visit 6 month cause devel...\n",
       "2611    knock knock txt 80082 enter r weekly draw 4 å2...\n",
       "                              ...                        \n",
       "3379                                   finish miss plenty\n",
       "3993               love cuddle want hold strong arm right\n",
       "4093                                                 miss\n",
       "4980                                           okay sorry\n",
       "547                                        sorry long omw\n",
       "Name: content_clean, Length: 3347, dtype: object"
      ]
     },
     "execution_count": 81,
     "metadata": {},
     "output_type": "execute_result"
    }
   ],
   "source": [
    "train_set"
   ]
  },
  {
   "cell_type": "code",
   "execution_count": 84,
   "metadata": {},
   "outputs": [
    {
     "name": "stdout",
     "output_type": "stream",
     "text": [
      "Epoch 1/50\n"
     ]
    },
    {
     "name": "stderr",
     "output_type": "stream",
     "text": [
      "2023-05-16 16:04:38.921536: I tensorflow/core/grappler/optimizers/custom_graph_optimizer_registry.cc:114] Plugin optimizer for device_type GPU is enabled.\n"
     ]
    },
    {
     "name": "stdout",
     "output_type": "stream",
     "text": [
      "105/105 [==============================] - ETA: 0s - loss: 0.5758 - binary_accuracy: 0.8303"
     ]
    },
    {
     "name": "stderr",
     "output_type": "stream",
     "text": [
      "2023-05-16 16:04:45.390346: I tensorflow/core/grappler/optimizers/custom_graph_optimizer_registry.cc:114] Plugin optimizer for device_type GPU is enabled.\n"
     ]
    },
    {
     "name": "stdout",
     "output_type": "stream",
     "text": [
      "105/105 [==============================] - 9s 72ms/step - loss: 0.5758 - binary_accuracy: 0.8303 - val_loss: 0.4175 - val_binary_accuracy: 0.9484\n",
      "Epoch 2/50\n",
      "105/105 [==============================] - 5s 51ms/step - loss: 0.2945 - binary_accuracy: 0.9579 - val_loss: 0.2095 - val_binary_accuracy: 0.9656\n",
      "Epoch 3/50\n",
      "105/105 [==============================] - 5s 48ms/step - loss: 0.1636 - binary_accuracy: 0.9668 - val_loss: 0.1431 - val_binary_accuracy: 0.9656\n",
      "Epoch 4/50\n",
      "105/105 [==============================] - 5s 46ms/step - loss: 0.1177 - binary_accuracy: 0.9695 - val_loss: 0.1185 - val_binary_accuracy: 0.9699\n",
      "Epoch 5/50\n",
      "105/105 [==============================] - 5s 45ms/step - loss: 0.0962 - binary_accuracy: 0.9728 - val_loss: 0.1063 - val_binary_accuracy: 0.9656\n",
      "Epoch 6/50\n",
      "105/105 [==============================] - 5s 44ms/step - loss: 0.0833 - binary_accuracy: 0.9749 - val_loss: 0.0978 - val_binary_accuracy: 0.9677\n",
      "Epoch 7/50\n",
      "105/105 [==============================] - 5s 43ms/step - loss: 0.0739 - binary_accuracy: 0.9785 - val_loss: 0.0928 - val_binary_accuracy: 0.9656\n",
      "Epoch 8/50\n",
      "105/105 [==============================] - 5s 45ms/step - loss: 0.0673 - binary_accuracy: 0.9800 - val_loss: 0.0898 - val_binary_accuracy: 0.9656\n",
      "Epoch 9/50\n",
      "105/105 [==============================] - 5s 44ms/step - loss: 0.0616 - binary_accuracy: 0.9812 - val_loss: 0.0869 - val_binary_accuracy: 0.9677\n",
      "Epoch 10/50\n",
      "105/105 [==============================] - 5s 45ms/step - loss: 0.0569 - binary_accuracy: 0.9845 - val_loss: 0.0855 - val_binary_accuracy: 0.9656\n",
      "Epoch 11/50\n",
      "105/105 [==============================] - 4s 42ms/step - loss: 0.0529 - binary_accuracy: 0.9851 - val_loss: 0.0861 - val_binary_accuracy: 0.9656\n",
      "Epoch 12/50\n",
      "105/105 [==============================] - 4s 42ms/step - loss: 0.0492 - binary_accuracy: 0.9860 - val_loss: 0.0826 - val_binary_accuracy: 0.9634\n",
      "Epoch 13/50\n",
      "105/105 [==============================] - 5s 43ms/step - loss: 0.0467 - binary_accuracy: 0.9872 - val_loss: 0.0835 - val_binary_accuracy: 0.9656\n",
      "Epoch 14/50\n",
      "105/105 [==============================] - 4s 43ms/step - loss: 0.0438 - binary_accuracy: 0.9878 - val_loss: 0.0830 - val_binary_accuracy: 0.9656\n",
      "Epoch 15/50\n",
      "105/105 [==============================] - 5s 43ms/step - loss: 0.0414 - binary_accuracy: 0.9892 - val_loss: 0.0835 - val_binary_accuracy: 0.9634\n",
      "Epoch 16/50\n",
      "105/105 [==============================] - 5s 43ms/step - loss: 0.0389 - binary_accuracy: 0.9889 - val_loss: 0.0831 - val_binary_accuracy: 0.9634\n",
      "Epoch 17/50\n",
      "105/105 [==============================] - 5s 43ms/step - loss: 0.0368 - binary_accuracy: 0.9889 - val_loss: 0.0835 - val_binary_accuracy: 0.9634\n",
      "Epoch 18/50\n",
      "105/105 [==============================] - 5s 44ms/step - loss: 0.0348 - binary_accuracy: 0.9904 - val_loss: 0.0849 - val_binary_accuracy: 0.9613\n",
      "Epoch 19/50\n",
      "105/105 [==============================] - 5s 44ms/step - loss: 0.0329 - binary_accuracy: 0.9907 - val_loss: 0.0855 - val_binary_accuracy: 0.9613\n",
      "Epoch 20/50\n",
      "105/105 [==============================] - 5s 44ms/step - loss: 0.0315 - binary_accuracy: 0.9910 - val_loss: 0.0856 - val_binary_accuracy: 0.9634\n",
      "Epoch 21/50\n",
      "105/105 [==============================] - 5s 44ms/step - loss: 0.0295 - binary_accuracy: 0.9910 - val_loss: 0.0875 - val_binary_accuracy: 0.9634\n",
      "Epoch 22/50\n",
      "105/105 [==============================] - 5s 45ms/step - loss: 0.0278 - binary_accuracy: 0.9916 - val_loss: 0.0852 - val_binary_accuracy: 0.9656\n",
      "Epoch 23/50\n",
      "105/105 [==============================] - 5s 46ms/step - loss: 0.0263 - binary_accuracy: 0.9916 - val_loss: 0.0880 - val_binary_accuracy: 0.9677\n",
      "Epoch 24/50\n",
      "105/105 [==============================] - 5s 46ms/step - loss: 0.0247 - binary_accuracy: 0.9937 - val_loss: 0.0869 - val_binary_accuracy: 0.9656\n",
      "Epoch 25/50\n",
      "105/105 [==============================] - 5s 46ms/step - loss: 0.0237 - binary_accuracy: 0.9937 - val_loss: 0.0873 - val_binary_accuracy: 0.9634\n",
      "Epoch 26/50\n",
      "105/105 [==============================] - 5s 47ms/step - loss: 0.0224 - binary_accuracy: 0.9943 - val_loss: 0.0887 - val_binary_accuracy: 0.9634\n",
      "Epoch 27/50\n",
      "105/105 [==============================] - 5s 47ms/step - loss: 0.0208 - binary_accuracy: 0.9946 - val_loss: 0.0901 - val_binary_accuracy: 0.9677\n",
      "Epoch 28/50\n",
      "105/105 [==============================] - 5s 46ms/step - loss: 0.0197 - binary_accuracy: 0.9955 - val_loss: 0.0909 - val_binary_accuracy: 0.9656\n",
      "Epoch 29/50\n",
      "105/105 [==============================] - 5s 47ms/step - loss: 0.0189 - binary_accuracy: 0.9955 - val_loss: 0.0912 - val_binary_accuracy: 0.9634\n",
      "Epoch 30/50\n",
      "105/105 [==============================] - 5s 48ms/step - loss: 0.0175 - binary_accuracy: 0.9967 - val_loss: 0.0908 - val_binary_accuracy: 0.9656\n",
      "Epoch 31/50\n",
      "105/105 [==============================] - 5s 48ms/step - loss: 0.0165 - binary_accuracy: 0.9976 - val_loss: 0.0912 - val_binary_accuracy: 0.9656\n",
      "Epoch 32/50\n",
      "105/105 [==============================] - 5s 48ms/step - loss: 0.0156 - binary_accuracy: 0.9982 - val_loss: 0.0925 - val_binary_accuracy: 0.9634\n",
      "Epoch 33/50\n",
      "105/105 [==============================] - 5s 47ms/step - loss: 0.0150 - binary_accuracy: 0.9973 - val_loss: 0.0919 - val_binary_accuracy: 0.9677\n",
      "Epoch 34/50\n",
      "105/105 [==============================] - 5s 47ms/step - loss: 0.0137 - binary_accuracy: 0.9982 - val_loss: 0.0943 - val_binary_accuracy: 0.9677\n",
      "Epoch 35/50\n",
      "105/105 [==============================] - 5s 49ms/step - loss: 0.0129 - binary_accuracy: 0.9985 - val_loss: 0.0937 - val_binary_accuracy: 0.9656\n",
      "Epoch 36/50\n",
      "105/105 [==============================] - 5s 49ms/step - loss: 0.0122 - binary_accuracy: 0.9985 - val_loss: 0.0945 - val_binary_accuracy: 0.9656\n",
      "Epoch 37/50\n",
      "105/105 [==============================] - 5s 48ms/step - loss: 0.0115 - binary_accuracy: 0.9988 - val_loss: 0.0952 - val_binary_accuracy: 0.9656\n",
      "Epoch 38/50\n",
      "105/105 [==============================] - 6s 60ms/step - loss: 0.0108 - binary_accuracy: 0.9991 - val_loss: 0.0964 - val_binary_accuracy: 0.9677\n",
      "Epoch 39/50\n",
      "105/105 [==============================] - 5s 50ms/step - loss: 0.0102 - binary_accuracy: 0.9997 - val_loss: 0.0955 - val_binary_accuracy: 0.9677\n",
      "Epoch 40/50\n",
      "105/105 [==============================] - 5s 49ms/step - loss: 0.0096 - binary_accuracy: 0.9991 - val_loss: 0.0978 - val_binary_accuracy: 0.9699\n",
      "Epoch 41/50\n",
      "105/105 [==============================] - 5s 50ms/step - loss: 0.0090 - binary_accuracy: 0.9994 - val_loss: 0.0980 - val_binary_accuracy: 0.9677\n",
      "Epoch 42/50\n",
      "105/105 [==============================] - 5s 50ms/step - loss: 0.0084 - binary_accuracy: 0.9997 - val_loss: 0.0999 - val_binary_accuracy: 0.9699\n",
      "Epoch 43/50\n",
      "105/105 [==============================] - 5s 51ms/step - loss: 0.0080 - binary_accuracy: 0.9997 - val_loss: 0.1002 - val_binary_accuracy: 0.9699\n",
      "Epoch 44/50\n",
      "105/105 [==============================] - 5s 52ms/step - loss: 0.0075 - binary_accuracy: 0.9994 - val_loss: 0.1005 - val_binary_accuracy: 0.9699\n",
      "Epoch 45/50\n",
      "105/105 [==============================] - 5s 51ms/step - loss: 0.0070 - binary_accuracy: 0.9997 - val_loss: 0.1013 - val_binary_accuracy: 0.9699\n",
      "Epoch 46/50\n",
      "105/105 [==============================] - 5s 51ms/step - loss: 0.0066 - binary_accuracy: 0.9997 - val_loss: 0.1019 - val_binary_accuracy: 0.9699\n",
      "Epoch 47/50\n",
      "105/105 [==============================] - 5s 51ms/step - loss: 0.0062 - binary_accuracy: 0.9997 - val_loss: 0.1019 - val_binary_accuracy: 0.9677\n",
      "Epoch 48/50\n",
      "105/105 [==============================] - 6s 53ms/step - loss: 0.0059 - binary_accuracy: 0.9997 - val_loss: 0.1045 - val_binary_accuracy: 0.9699\n",
      "Epoch 49/50\n",
      "105/105 [==============================] - 5s 51ms/step - loss: 0.0056 - binary_accuracy: 0.9997 - val_loss: 0.1046 - val_binary_accuracy: 0.9699\n",
      "Epoch 50/50\n",
      "105/105 [==============================] - 5s 52ms/step - loss: 0.0053 - binary_accuracy: 0.9997 - val_loss: 0.1070 - val_binary_accuracy: 0.9699\n"
     ]
    },
    {
     "data": {
      "text/plain": [
       "<keras.callbacks.History at 0x3d3232560>"
      ]
     },
     "execution_count": 84,
     "metadata": {},
     "output_type": "execute_result"
    }
   ],
   "source": [
    "#Entrainement \n",
    "model_USE.fit(train_set,label_train_set,\n",
    "          epochs=50, \n",
    "          validation_data=(val_set,label_val_set))"
   ]
  },
  {
   "cell_type": "code",
   "execution_count": 85,
   "metadata": {},
   "outputs": [
    {
     "data": {
      "image/png": "[encoded data removed]",
      "text/plain": [
       "<Figure size 640x480 with 1 Axes>"
      ]
     },
     "metadata": {},
     "output_type": "display_data"
    }
   ],
   "source": [
    "#Trace la courbe d'accuracy\n",
    "plt.plot(model_USE.history.history[\"binary_accuracy\"], c=\"r\", label=\"train\")\n",
    "plt.plot(model_USE.history.history[\"val_binary_accuracy\"], c=\"b\", label=\"test\")\n",
    "plt.legend(loc=\"upper left\")\n",
    "plt.show()"
   ]
  },
  {
   "cell_type": "code",
   "execution_count": 86,
   "metadata": {},
   "outputs": [
    {
     "data": {
      "image/png": "[encoded data removed]",
      "text/plain": [
       "<Figure size 640x480 with 1 Axes>"
      ]
     },
     "metadata": {},
     "output_type": "display_data"
    }
   ],
   "source": [
    "# Trace la loss\n",
    "plt.plot(model_USE.history.history[\"loss\"], c=\"r\", label=\"train_loss\")\n",
    "plt.plot(model_USE.history.history[\"val_loss\"], c=\"b\", label=\"test_loss\")\n",
    "plt.legend(loc=\"upper left\")\n",
    "plt.show()"
   ]
  },
  {
   "cell_type": "code",
   "execution_count": 87,
   "metadata": {},
   "outputs": [
    {
     "name": "stderr",
     "output_type": "stream",
     "text": [
      "2023-05-16 16:12:20.819175: I tensorflow/core/grappler/optimizers/custom_graph_optimizer_registry.cc:114] Plugin optimizer for device_type GPU is enabled.\n"
     ]
    },
    {
     "name": "stdout",
     "output_type": "stream",
     "text": [
      "27/27 [==============================] - 6s 177ms/step\n"
     ]
    },
    {
     "data": {
      "text/plain": [
       "{'description': 'USE sans alphanum',\n",
       " 'accuracy': 0.982078853046595,\n",
       " 'precision': 0.9312977099236641,\n",
       " 'recall': 0.953125,\n",
       " 'f1-score': 0.9420849420849421}"
      ]
     },
     "execution_count": 87,
     "metadata": {},
     "output_type": "execute_result"
    }
   ],
   "source": [
    "evaluate_model('USE sans alphanum',model_USE, test_set, label_test_set)"
   ]
  },
  {
   "cell_type": "code",
   "execution_count": 88,
   "metadata": {},
   "outputs": [
    {
     "name": "stderr",
     "output_type": "stream",
     "text": [
      "2023-05-16 16:13:22.812661: I tensorflow/core/grappler/optimizers/custom_graph_optimizer_registry.cc:114] Plugin optimizer for device_type GPU is enabled.\n"
     ]
    },
    {
     "name": "stdout",
     "output_type": "stream",
     "text": [
      "Model: \"sequential_6\"\n",
      "_________________________________________________________________\n",
      " Layer (type)                Output Shape              Param #   \n",
      "=================================================================\n",
      " USE (KerasLayer)            (None, 512)               256797824 \n",
      "                                                                 \n",
      " dense_8 (Dense)             (None, 16)                8208      \n",
      "                                                                 \n",
      " dense_9 (Dense)             (None, 1)                 17        \n",
      "                                                                 \n",
      "=================================================================\n",
      "Total params: 256,806,049\n",
      "Trainable params: 8,225\n",
      "Non-trainable params: 256,797,824\n",
      "_________________________________________________________________\n"
     ]
    }
   ],
   "source": [
    "#Creation d'un model sequentiel\n",
    "model_USE_all_car = tf.keras.Sequential()\n",
    "\n",
    "#Transfert Learning \n",
    "use_layer_all_car = hub.KerasLayer(\"https://tfhub.dev/google/universal-sentence-encoder/4\",\n",
    "\t\t\t\t\t\ttrainable=False,\n",
    "\t\t\t\t\t\tinput_shape=[],\n",
    "\t\t\t\t\t\tdtype=tf.string,\n",
    "\t\t\t\t\t\tname='USE')\n",
    "\n",
    "model_USE_all_car.add(use_layer_all_car)\n",
    "model_USE_all_car.add(tf.keras.layers.Dense(16, activation='relu')), # a dense layer\n",
    "model_USE_all_car.add(tf.keras.layers.Dense(1, activation=\"sigmoid\")) # the prediction layer\n",
    "\n",
    "#On compile le modele (legacy utilisé car mac M1)\n",
    "model_USE_all_car.compile(optimizer=tf.keras.optimizers.legacy.Adam(),\n",
    "              loss=tf.keras.losses.BinaryCrossentropy(),\n",
    "              metrics=tf.keras.metrics.BinaryAccuracy())\n",
    "\n",
    "model_USE_all_car.summary()"
   ]
  },
  {
   "cell_type": "code",
   "execution_count": 89,
   "metadata": {},
   "outputs": [],
   "source": [
    "#Le modele USE n'a pas besoin de token, nous pouvons lui envoyer les phrases directement\n",
    "#Séparation en train, test et validation set\n",
    "train_set,val_set,label_train_set,label_val_set = train_test_split(data_clean_all_car['content_clean'],data_clean_all_car['num_target'],test_size=0.1,stratify=data_clean_all_car['num_target'])\n",
    "train_set,test_set,label_train_set,label_test_set = train_test_split(train_set,label_train_set,test_size=0.2,stratify=label_train_set)\n"
   ]
  },
  {
   "cell_type": "code",
   "execution_count": 90,
   "metadata": {},
   "outputs": [
    {
     "name": "stdout",
     "output_type": "stream",
     "text": [
      "Epoch 1/50\n"
     ]
    },
    {
     "name": "stderr",
     "output_type": "stream",
     "text": [
      "2023-05-16 16:14:02.333779: I tensorflow/core/grappler/optimizers/custom_graph_optimizer_registry.cc:114] Plugin optimizer for device_type GPU is enabled.\n"
     ]
    },
    {
     "name": "stdout",
     "output_type": "stream",
     "text": [
      "126/126 [==============================] - ETA: 0s - loss: 0.3976 - binary_accuracy: 0.8816"
     ]
    },
    {
     "name": "stderr",
     "output_type": "stream",
     "text": [
      "2023-05-16 16:14:18.012185: I tensorflow/core/grappler/optimizers/custom_graph_optimizer_registry.cc:114] Plugin optimizer for device_type GPU is enabled.\n"
     ]
    },
    {
     "name": "stdout",
     "output_type": "stream",
     "text": [
      "126/126 [==============================] - 21s 155ms/step - loss: 0.3976 - binary_accuracy: 0.8816 - val_loss: 0.2114 - val_binary_accuracy: 0.9516\n",
      "Epoch 2/50\n",
      "126/126 [==============================] - 11s 88ms/step - loss: 0.1519 - binary_accuracy: 0.9668 - val_loss: 0.1196 - val_binary_accuracy: 0.9731\n",
      "Epoch 3/50\n",
      "126/126 [==============================] - 10s 80ms/step - loss: 0.1001 - binary_accuracy: 0.9728 - val_loss: 0.0962 - val_binary_accuracy: 0.9695\n",
      "Epoch 4/50\n",
      "126/126 [==============================] - 9s 75ms/step - loss: 0.0818 - binary_accuracy: 0.9766 - val_loss: 0.0874 - val_binary_accuracy: 0.9713\n",
      "Epoch 5/50\n",
      "126/126 [==============================] - 9s 72ms/step - loss: 0.0710 - binary_accuracy: 0.9793 - val_loss: 0.0813 - val_binary_accuracy: 0.9731\n",
      "Epoch 6/50\n",
      "126/126 [==============================] - 9s 70ms/step - loss: 0.0636 - binary_accuracy: 0.9796 - val_loss: 0.0793 - val_binary_accuracy: 0.9749\n",
      "Epoch 7/50\n",
      "126/126 [==============================] - 9s 69ms/step - loss: 0.0582 - binary_accuracy: 0.9818 - val_loss: 0.0766 - val_binary_accuracy: 0.9767\n",
      "Epoch 8/50\n",
      "126/126 [==============================] - 9s 71ms/step - loss: 0.0540 - binary_accuracy: 0.9833 - val_loss: 0.0752 - val_binary_accuracy: 0.9767\n",
      "Epoch 9/50\n",
      "126/126 [==============================] - 9s 71ms/step - loss: 0.0506 - binary_accuracy: 0.9843 - val_loss: 0.0757 - val_binary_accuracy: 0.9767\n",
      "Epoch 10/50\n",
      "126/126 [==============================] - 9s 73ms/step - loss: 0.0476 - binary_accuracy: 0.9853 - val_loss: 0.0748 - val_binary_accuracy: 0.9767\n",
      "Epoch 11/50\n",
      "126/126 [==============================] - 9s 69ms/step - loss: 0.0450 - binary_accuracy: 0.9863 - val_loss: 0.0746 - val_binary_accuracy: 0.9785\n",
      "Epoch 12/50\n",
      "126/126 [==============================] - 9s 70ms/step - loss: 0.0427 - binary_accuracy: 0.9883 - val_loss: 0.0752 - val_binary_accuracy: 0.9749\n",
      "Epoch 13/50\n",
      "126/126 [==============================] - 8s 66ms/step - loss: 0.0407 - binary_accuracy: 0.9875 - val_loss: 0.0735 - val_binary_accuracy: 0.9821\n",
      "Epoch 14/50\n",
      "126/126 [==============================] - 9s 73ms/step - loss: 0.0389 - binary_accuracy: 0.9888 - val_loss: 0.0739 - val_binary_accuracy: 0.9821\n",
      "Epoch 15/50\n",
      "126/126 [==============================] - 9s 68ms/step - loss: 0.0372 - binary_accuracy: 0.9900 - val_loss: 0.0734 - val_binary_accuracy: 0.9821\n",
      "Epoch 16/50\n",
      "126/126 [==============================] - 9s 69ms/step - loss: 0.0353 - binary_accuracy: 0.9895 - val_loss: 0.0742 - val_binary_accuracy: 0.9749\n",
      "Epoch 17/50\n",
      "126/126 [==============================] - 9s 68ms/step - loss: 0.0342 - binary_accuracy: 0.9910 - val_loss: 0.0746 - val_binary_accuracy: 0.9767\n",
      "Epoch 18/50\n",
      "126/126 [==============================] - 9s 70ms/step - loss: 0.0329 - binary_accuracy: 0.9908 - val_loss: 0.0746 - val_binary_accuracy: 0.9803\n",
      "Epoch 19/50\n",
      "126/126 [==============================] - 9s 67ms/step - loss: 0.0314 - binary_accuracy: 0.9910 - val_loss: 0.0767 - val_binary_accuracy: 0.9731\n",
      "Epoch 20/50\n",
      "126/126 [==============================] - 9s 69ms/step - loss: 0.0299 - binary_accuracy: 0.9915 - val_loss: 0.0773 - val_binary_accuracy: 0.9713\n",
      "Epoch 21/50\n",
      "126/126 [==============================] - 9s 70ms/step - loss: 0.0285 - binary_accuracy: 0.9923 - val_loss: 0.0770 - val_binary_accuracy: 0.9767\n",
      "Epoch 22/50\n",
      "126/126 [==============================] - 9s 70ms/step - loss: 0.0274 - binary_accuracy: 0.9920 - val_loss: 0.0762 - val_binary_accuracy: 0.9749\n",
      "Epoch 23/50\n",
      "126/126 [==============================] - 9s 71ms/step - loss: 0.0266 - binary_accuracy: 0.9920 - val_loss: 0.0768 - val_binary_accuracy: 0.9767\n",
      "Epoch 24/50\n",
      "126/126 [==============================] - 9s 68ms/step - loss: 0.0253 - binary_accuracy: 0.9925 - val_loss: 0.0773 - val_binary_accuracy: 0.9749\n",
      "Epoch 25/50\n",
      "126/126 [==============================] - 9s 68ms/step - loss: 0.0245 - binary_accuracy: 0.9935 - val_loss: 0.0778 - val_binary_accuracy: 0.9749\n",
      "Epoch 26/50\n",
      "126/126 [==============================] - 9s 71ms/step - loss: 0.0230 - binary_accuracy: 0.9935 - val_loss: 0.0784 - val_binary_accuracy: 0.9749\n",
      "Epoch 27/50\n",
      "126/126 [==============================] - 9s 72ms/step - loss: 0.0224 - binary_accuracy: 0.9943 - val_loss: 0.0821 - val_binary_accuracy: 0.9713\n",
      "Epoch 28/50\n",
      "126/126 [==============================] - 9s 72ms/step - loss: 0.0212 - binary_accuracy: 0.9940 - val_loss: 0.0816 - val_binary_accuracy: 0.9695\n",
      "Epoch 29/50\n",
      "126/126 [==============================] - 9s 73ms/step - loss: 0.0205 - binary_accuracy: 0.9945 - val_loss: 0.0813 - val_binary_accuracy: 0.9731\n",
      "Epoch 30/50\n",
      "126/126 [==============================] - 9s 75ms/step - loss: 0.0197 - binary_accuracy: 0.9948 - val_loss: 0.0833 - val_binary_accuracy: 0.9713\n",
      "Epoch 31/50\n",
      "126/126 [==============================] - 9s 74ms/step - loss: 0.0184 - binary_accuracy: 0.9945 - val_loss: 0.0858 - val_binary_accuracy: 0.9713\n",
      "Epoch 32/50\n",
      "126/126 [==============================] - 9s 73ms/step - loss: 0.0180 - binary_accuracy: 0.9950 - val_loss: 0.0842 - val_binary_accuracy: 0.9713\n",
      "Epoch 33/50\n",
      "126/126 [==============================] - 10s 77ms/step - loss: 0.0172 - binary_accuracy: 0.9943 - val_loss: 0.0885 - val_binary_accuracy: 0.9713\n",
      "Epoch 34/50\n",
      "126/126 [==============================] - 10s 77ms/step - loss: 0.0164 - binary_accuracy: 0.9953 - val_loss: 0.0866 - val_binary_accuracy: 0.9713\n",
      "Epoch 35/50\n",
      "126/126 [==============================] - 10s 75ms/step - loss: 0.0154 - binary_accuracy: 0.9968 - val_loss: 0.0875 - val_binary_accuracy: 0.9731\n",
      "Epoch 36/50\n",
      "126/126 [==============================] - 10s 76ms/step - loss: 0.0147 - binary_accuracy: 0.9968 - val_loss: 0.0891 - val_binary_accuracy: 0.9713\n",
      "Epoch 37/50\n",
      "126/126 [==============================] - 9s 75ms/step - loss: 0.0142 - binary_accuracy: 0.9968 - val_loss: 0.0899 - val_binary_accuracy: 0.9713\n",
      "Epoch 38/50\n",
      "126/126 [==============================] - 11s 87ms/step - loss: 0.0134 - binary_accuracy: 0.9973 - val_loss: 0.0903 - val_binary_accuracy: 0.9731\n",
      "Epoch 39/50\n",
      "126/126 [==============================] - 10s 78ms/step - loss: 0.0129 - binary_accuracy: 0.9975 - val_loss: 0.0933 - val_binary_accuracy: 0.9713\n",
      "Epoch 40/50\n",
      "126/126 [==============================] - 10s 77ms/step - loss: 0.0121 - binary_accuracy: 0.9978 - val_loss: 0.0935 - val_binary_accuracy: 0.9731\n",
      "Epoch 41/50\n",
      "126/126 [==============================] - 10s 77ms/step - loss: 0.0117 - binary_accuracy: 0.9980 - val_loss: 0.0949 - val_binary_accuracy: 0.9713\n",
      "Epoch 42/50\n",
      "126/126 [==============================] - 10s 78ms/step - loss: 0.0110 - binary_accuracy: 0.9983 - val_loss: 0.0959 - val_binary_accuracy: 0.9767\n",
      "Epoch 43/50\n",
      "126/126 [==============================] - 10s 80ms/step - loss: 0.0105 - binary_accuracy: 0.9983 - val_loss: 0.0982 - val_binary_accuracy: 0.9713\n",
      "Epoch 44/50\n",
      "126/126 [==============================] - 10s 79ms/step - loss: 0.0098 - binary_accuracy: 0.9985 - val_loss: 0.1020 - val_binary_accuracy: 0.9659\n",
      "Epoch 45/50\n",
      "126/126 [==============================] - 10s 78ms/step - loss: 0.0098 - binary_accuracy: 0.9980 - val_loss: 0.1024 - val_binary_accuracy: 0.9713\n",
      "Epoch 46/50\n",
      "126/126 [==============================] - 10s 78ms/step - loss: 0.0089 - binary_accuracy: 0.9988 - val_loss: 0.1005 - val_binary_accuracy: 0.9767\n",
      "Epoch 47/50\n",
      "126/126 [==============================] - 10s 77ms/step - loss: 0.0086 - binary_accuracy: 0.9990 - val_loss: 0.1028 - val_binary_accuracy: 0.9731\n",
      "Epoch 48/50\n",
      "126/126 [==============================] - 10s 77ms/step - loss: 0.0082 - binary_accuracy: 0.9988 - val_loss: 0.1039 - val_binary_accuracy: 0.9731\n",
      "Epoch 49/50\n",
      "126/126 [==============================] - 10s 80ms/step - loss: 0.0077 - binary_accuracy: 0.9990 - val_loss: 0.1044 - val_binary_accuracy: 0.9749\n",
      "Epoch 50/50\n",
      "126/126 [==============================] - 10s 81ms/step - loss: 0.0074 - binary_accuracy: 0.9988 - val_loss: 0.1079 - val_binary_accuracy: 0.9695\n"
     ]
    },
    {
     "data": {
      "text/plain": [
       "<keras.callbacks.History at 0x34cd96380>"
      ]
     },
     "execution_count": 90,
     "metadata": {},
     "output_type": "execute_result"
    }
   ],
   "source": [
    "#Entrainement \n",
    "model_USE_all_car.fit(train_set,label_train_set,\n",
    "          epochs=50, \n",
    "          validation_data=(val_set,label_val_set))"
   ]
  },
  {
   "cell_type": "code",
   "execution_count": 91,
   "metadata": {},
   "outputs": [
    {
     "data": {
      "image/png": "[encoded data removed]",
      "text/plain": [
       "<Figure size 640x480 with 1 Axes>"
      ]
     },
     "metadata": {},
     "output_type": "display_data"
    }
   ],
   "source": [
    "#Trace la courbe d'accuracy\n",
    "plt.plot(model_USE_all_car.history.history[\"binary_accuracy\"], c=\"r\", label=\"train\")\n",
    "plt.plot(model_USE_all_car.history.history[\"val_binary_accuracy\"], c=\"b\", label=\"test\")\n",
    "plt.legend(loc=\"upper left\")\n",
    "plt.show()"
   ]
  },
  {
   "cell_type": "code",
   "execution_count": 92,
   "metadata": {},
   "outputs": [
    {
     "data": {
      "image/png": "[encoded data removed]",
      "text/plain": [
       "<Figure size 640x480 with 1 Axes>"
      ]
     },
     "metadata": {},
     "output_type": "display_data"
    }
   ],
   "source": [
    "# Trace la loss\n",
    "plt.plot(model_USE_all_car.history.history[\"loss\"], c=\"r\", label=\"train_loss\")\n",
    "plt.plot(model_USE_all_car.history.history[\"val_loss\"], c=\"b\", label=\"test_loss\")\n",
    "plt.legend(loc=\"upper left\")\n",
    "plt.show()"
   ]
  },
  {
   "cell_type": "code",
   "execution_count": 93,
   "metadata": {},
   "outputs": [
    {
     "name": "stderr",
     "output_type": "stream",
     "text": [
      "2023-05-16 16:22:11.827618: I tensorflow/core/grappler/optimizers/custom_graph_optimizer_registry.cc:114] Plugin optimizer for device_type GPU is enabled.\n"
     ]
    },
    {
     "name": "stdout",
     "output_type": "stream",
     "text": [
      "32/32 [==============================] - 10s 297ms/step\n"
     ]
    },
    {
     "data": {
      "text/plain": [
       "{'description': 'USE avec alphanum',\n",
       " 'accuracy': 0.9720837487537388,\n",
       " 'precision': 0.8897058823529411,\n",
       " 'recall': 0.9029850746268657,\n",
       " 'f1-score': 0.8962962962962964}"
      ]
     },
     "execution_count": 93,
     "metadata": {},
     "output_type": "execute_result"
    }
   ],
   "source": [
    "evaluate_model('USE avec alphanum',model_USE_all_car, test_set, label_test_set)"
   ]
  },
  {
   "attachments": {},
   "cell_type": "markdown",
   "metadata": {},
   "source": [
    "{'description': 'USE sans alphanum',\n",
    " 'accuracy': 0.982078853046595,\n",
    " 'precision': 0.9312977099236641,\n",
    " 'recall': 0.953125,\n",
    " 'f1-score': 0.9420849420849421}"
   ]
  },
  {
   "cell_type": "code",
   "execution_count": 94,
   "metadata": {},
   "outputs": [
    {
     "name": "stdout",
     "output_type": "stream",
     "text": [
      "32/32 [==============================] - 7s 203ms/step\n"
     ]
    },
    {
     "data": {
      "image/png": "[encoded data removed]",
      "text/plain": [
       "<Figure size 640x480 with 2 Axes>"
      ]
     },
     "metadata": {},
     "output_type": "display_data"
    }
   ],
   "source": [
    "#disp = ConfusionMatrixDisplay\n",
    "cm = confusion_matrix(label_test_set, np.round(model_USE.predict(test_set)))\n",
    "disp = ConfusionMatrixDisplay(confusion_matrix=cm)\n",
    "disp.plot()\n",
    "plt.show()"
   ]
  },
  {
   "cell_type": "code",
   "execution_count": 95,
   "metadata": {},
   "outputs": [
    {
     "name": "stdout",
     "output_type": "stream",
     "text": [
      "32/32 [==============================] - 4s 126ms/step\n"
     ]
    },
    {
     "data": {
      "image/png": "[encoded data removed]",
      "text/plain": [
       "<Figure size 640x480 with 2 Axes>"
      ]
     },
     "metadata": {},
     "output_type": "display_data"
    }
   ],
   "source": [
    "#disp = ConfusionMatrixDisplay\n",
    "cm_all_car = confusion_matrix(label_test_set, np.round(model_USE_all_car.predict(test_set)))\n",
    "disp_all_car = ConfusionMatrixDisplay(confusion_matrix=cm_all_car)\n",
    "disp_all_car.plot()\n",
    "plt.show()"
   ]
  },
  {
   "attachments": {},
   "cell_type": "markdown",
   "metadata": {},
   "source": [
    "Analyse du model avec transfert\n",
    "Nous sommes à 10 mal classé sur 1000 sans les caractère spéciaux \n",
    "et 28 avec les caractères spéciaux.\n",
    "Le modele USE prend en compte le contexte des phrases, sont analyse est donc tout autre, il n'a pas besoin de la ponctuation et autre. Ce qui explique la bonne reussite du modèle sans ponctuation. \n",
    "Nous somme tout de meme à 28 avec la ponctuation ce qui est mieux. "
   ]
  },
  {
   "attachments": {},
   "cell_type": "markdown",
   "metadata": {},
   "source": [
    "Piste d'amelioration : \n",
    "Augmenter le dataset, en effet il est relativement petit par rapport au nombre de parametre du modele USE. \n",
    "Ceci explique un overfitting trop important. \n",
    "\n",
    "AJouter une couche de drop out permettrait de reduire cet overfiting. \n",
    "\n",
    "Verifier aussi la liste des stop word. En effet le spamming, contient un vocabulaire assez récurent. il faudrait s'assurer que certain mot n'ont pas été supprimé à cet etape avec un wordcloud par exemple. \n",
    "\n",
    "IL serait aussi interessant d'intégrer la notion du numéro de téléphone ( ou du mail dans le cas de spam mail), car on peut en apprendre beaucoup avec l'adresse email. \n",
    "\n",
    "Peut-être récupérer les informations des noms de domaines ou de propriétaire des numéro des sms "
   ]
  },
  {
   "attachments": {},
   "cell_type": "markdown",
   "metadata": {},
   "source": [
    "# BERT"
   ]
  },
  {
   "attachments": {},
   "cell_type": "markdown",
   "metadata": {},
   "source": [
    "J'ai voulu essayé le modèle BERT, mais j'ai rencontré bcp de problème car la librairie tensorflow text n'est pas installable sur mac m1 (pas avec pip en tout cas, il faut recompiler les sources... Etc ..)\n",
    "\n",
    "Le code est néamoins pret et peu s'executer sur google collab avec un small bert. Le BERT normal dépasse la ram alouée \n"
   ]
  },
  {
   "cell_type": "code",
   "execution_count": null,
   "metadata": {},
   "outputs": [],
   "source": [
    "import numpy as np\n",
    "import pandas as pd\n",
    "\n",
    "#TensorFlow\n",
    "import tensorflow as tf\n",
    "import tensorflow_hub as hub\n",
    "from tensorflow.keras import layers\n",
    "#PB SUR MAC M1\n",
    "import tensorflow_text\n",
    "\n",
    "#Splitting\n",
    "from sklearn.model_selection import train_test_split\n",
    "\n",
    "#Scoring\n",
    "from sklearn.metrics import confusion_matrix,ConfusionMatrixDisplay,precision_score, recall_score, f1_score, accuracy_score\n",
    "\n",
    "#Graphes\n",
    "import matplotlib.pyplot as plt"
   ]
  },
  {
   "cell_type": "code",
   "execution_count": null,
   "metadata": {},
   "outputs": [],
   "source": [
    "#Récupération du DataSet\n",
    "dataset = pd.read_csv(\"https://full-stack-bigdata-datasets.s3.eu-west-3.amazonaws.com/Deep+Learning/project/spam.csv\",encoding = \"ISO-8859-1\")\n",
    "#On renseigne les NAN avec des chaines vides\n",
    "dataset = dataset.fillna('')\n",
    "#Concatenation des colonnes\n",
    "dataset['content'] = dataset.iloc[:,1] + dataset.iloc[:,2] + dataset.iloc[:,3] + dataset.iloc[:,4]\n",
    "#Suppression des colonnes \n",
    "dataset.drop(columns=['v2','Unnamed: 2','Unnamed: 3','Unnamed: 4'],inplace=True,axis=1)\n",
    "#rename de la colonne\n",
    "dataset.rename(columns={'v1':'target'},inplace=True)\n",
    "#Création target format numérique \n",
    "dataset['num_target'] = 0\n",
    "dataset.loc[dataset['target'] == 'spam','num_target'] = 1"
   ]
  },
  {
   "cell_type": "code",
   "execution_count": null,
   "metadata": {},
   "outputs": [],
   "source": [
    "#Chargement du model de preprocess BERT\n",
    "bert_preprocess_model = hub.KerasLayer(\"https://tfhub.dev/tensorflow/bert_en_uncased_preprocess/3\")\n",
    "#A la sortie c'est un dictionnaire avec 3 elements \n",
    "\n",
    "#Chargement d'un model BERT SMALL \n",
    "bert_model = hub.KerasLayer(\"https://tfhub.dev/tensorflow/small_bert/bert_en_uncased_L-2_H-128_A-2/1\",trainable=False, name=\"bert\")"
   ]
  },
  {
   "cell_type": "code",
   "execution_count": null,
   "metadata": {},
   "outputs": [],
   "source": [
    "text_input = tf.keras.layers.Input(shape=(), dtype=tf.string)\n",
    "preprossessing = bert_preprocess_model(text_input)\n",
    "bert_outputs = bert_model(preprossessing)\n",
    "bert_pooled_outputs = bert_outputs['pooled_output']\n",
    "dense_layer = tf.keras.layers.Dense(64, activation=\"relu\")(bert_pooled_outputs)\n",
    "final_outputs = tf.keras.layers.Dense(1, activation=\"sigmoid\")(dense_layer)\n",
    "model_bert = tf.keras.Model(inputs=text_input, outputs=final_outputs)\n",
    "model_bert.summary()"
   ]
  },
  {
   "cell_type": "code",
   "execution_count": null,
   "metadata": {},
   "outputs": [],
   "source": [
    "#On compile le modele (legacy utilisé car mac M1)\n",
    "model_bert.compile(optimizer=tf.keras.optimizers.Adam(),\n",
    "              loss=tf.keras.losses.BinaryCrossentropy(),\n",
    "              metrics=tf.keras.metrics.BinaryAccuracy())"
   ]
  },
  {
   "cell_type": "code",
   "execution_count": null,
   "metadata": {},
   "outputs": [],
   "source": [
    "#Meme découpage que pour les autres models \n",
    "train_set,val_set,label_train_set,label_val_set = train_test_split(dataset['content'],dataset['num_target'],test_size=0.1,stratify=dataset['num_target'])\n",
    "train_set,test_set,label_train_set,label_test_set = train_test_split(train_set,label_train_set,test_size=0.2,stratify=label_train_set)\n"
   ]
  },
  {
   "cell_type": "code",
   "execution_count": null,
   "metadata": {},
   "outputs": [],
   "source": [
    "#Entrainement \n",
    "model_bert.fit(train_set,label_train_set,\n",
    "          epochs=50, \n",
    "          validation_data=(val_set,label_val_set))"
   ]
  },
  {
   "cell_type": "code",
   "execution_count": null,
   "metadata": {},
   "outputs": [],
   "source": [
    "#Trace la courbe d'accuracy\n",
    "plt.plot(model_bert.history.history[\"binary_accuracy\"], c=\"r\", label=\"train\")\n",
    "plt.plot(model_bert.history.history[\"val_binary_accuracy\"], c=\"b\", label=\"test\")\n",
    "plt.legend(loc=\"upper left\")\n",
    "plt.show()"
   ]
  },
  {
   "cell_type": "code",
   "execution_count": null,
   "metadata": {},
   "outputs": [],
   "source": [
    "# Trace la loss\n",
    "plt.plot(model_bert.history.history[\"loss\"], c=\"r\", label=\"train_loss\")\n",
    "plt.plot(model_bert.history.history[\"val_loss\"], c=\"b\", label=\"test_loss\")\n",
    "plt.legend(loc=\"upper left\")\n",
    "plt.show()"
   ]
  },
  {
   "cell_type": "code",
   "execution_count": null,
   "metadata": {},
   "outputs": [],
   "source": [
    "#disp = ConfusionMatrixDisplay\n",
    "cm_all_car = confusion_matrix(label_test_set, np.round(model_bert.predict(test_set)))\n",
    "disp_all_car = ConfusionMatrixDisplay(confusion_matrix=cm_all_car)\n",
    "disp_all_car.plot()\n",
    "plt.show()"
   ]
  }
 ],
 "metadata": {
  "kernelspec": {
   "display_name": "dataenv",
   "language": "python",
   "name": "python3"
  },
  "language_info": {
   "codemirror_mode": {
    "name": "ipython",
    "version": 3
   },
   "file_extension": ".py",
   "mimetype": "text/x-python",
   "name": "python",
   "nbconvert_exporter": "python",
   "pygments_lexer": "ipython3",
   "version": "3.10.9"
  },
  "orig_nbformat": 4
 },
 "nbformat": 4,
 "nbformat_minor": 2
}
