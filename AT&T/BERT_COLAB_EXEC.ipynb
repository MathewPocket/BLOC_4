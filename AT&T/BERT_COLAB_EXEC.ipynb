{
  "nbformat": 4,
  "nbformat_minor": 0,
  "metadata": {
    "colab": {
      "provenance": []
    },
    "kernelspec": {
      "name": "python3",
      "display_name": "Python 3"
    },
    "language_info": {
      "name": "python"
    }
  },
  "cells": [
    {
      "cell_type": "code",
      "source": [
        "!pip install tensorflow-text"
      ],
      "metadata": {
        "colab": {
          "base_uri": "https://localhost:8080/"
        },
        "id": "9Vxko3DDBkdg",
        "outputId": "0055d956-5c2e-4682-dd80-d6c7ed23e890"
      },
      "execution_count": 2,
      "outputs": [
        {
          "output_type": "stream",
          "name": "stdout",
          "text": [
            "Looking in indexes: https://pypi.org/simple, https://us-python.pkg.dev/colab-wheels/public/simple/\n",
            "Collecting tensorflow-text\n",
            "  Downloading tensorflow_text-2.12.1-cp310-cp310-manylinux_2_17_x86_64.manylinux2014_x86_64.whl (6.0 MB)\n",
            "\u001b[2K     \u001b[90m━━━━━━━━━━━━━━━━━━━━━━━━━━━━━━━━━━━━━━━━\u001b[0m \u001b[32m6.0/6.0 MB\u001b[0m \u001b[31m44.7 MB/s\u001b[0m eta \u001b[36m0:00:00\u001b[0m\n",
            "\u001b[?25hRequirement already satisfied: tensorflow-hub>=0.8.0 in /usr/local/lib/python3.10/dist-packages (from tensorflow-text) (0.13.0)\n",
            "Requirement already satisfied: tensorflow<2.13,>=2.12.0 in /usr/local/lib/python3.10/dist-packages (from tensorflow-text) (2.12.0)\n",
            "Requirement already satisfied: absl-py>=1.0.0 in /usr/local/lib/python3.10/dist-packages (from tensorflow<2.13,>=2.12.0->tensorflow-text) (1.4.0)\n",
            "Requirement already satisfied: astunparse>=1.6.0 in /usr/local/lib/python3.10/dist-packages (from tensorflow<2.13,>=2.12.0->tensorflow-text) (1.6.3)\n",
            "Requirement already satisfied: flatbuffers>=2.0 in /usr/local/lib/python3.10/dist-packages (from tensorflow<2.13,>=2.12.0->tensorflow-text) (23.3.3)\n",
            "Requirement already satisfied: gast<=0.4.0,>=0.2.1 in /usr/local/lib/python3.10/dist-packages (from tensorflow<2.13,>=2.12.0->tensorflow-text) (0.4.0)\n",
            "Requirement already satisfied: google-pasta>=0.1.1 in /usr/local/lib/python3.10/dist-packages (from tensorflow<2.13,>=2.12.0->tensorflow-text) (0.2.0)\n",
            "Requirement already satisfied: grpcio<2.0,>=1.24.3 in /usr/local/lib/python3.10/dist-packages (from tensorflow<2.13,>=2.12.0->tensorflow-text) (1.54.0)\n",
            "Requirement already satisfied: h5py>=2.9.0 in /usr/local/lib/python3.10/dist-packages (from tensorflow<2.13,>=2.12.0->tensorflow-text) (3.8.0)\n",
            "Requirement already satisfied: jax>=0.3.15 in /usr/local/lib/python3.10/dist-packages (from tensorflow<2.13,>=2.12.0->tensorflow-text) (0.4.8)\n",
            "Requirement already satisfied: keras<2.13,>=2.12.0 in /usr/local/lib/python3.10/dist-packages (from tensorflow<2.13,>=2.12.0->tensorflow-text) (2.12.0)\n",
            "Requirement already satisfied: libclang>=13.0.0 in /usr/local/lib/python3.10/dist-packages (from tensorflow<2.13,>=2.12.0->tensorflow-text) (16.0.0)\n",
            "Requirement already satisfied: numpy<1.24,>=1.22 in /usr/local/lib/python3.10/dist-packages (from tensorflow<2.13,>=2.12.0->tensorflow-text) (1.22.4)\n",
            "Requirement already satisfied: opt-einsum>=2.3.2 in /usr/local/lib/python3.10/dist-packages (from tensorflow<2.13,>=2.12.0->tensorflow-text) (3.3.0)\n",
            "Requirement already satisfied: packaging in /usr/local/lib/python3.10/dist-packages (from tensorflow<2.13,>=2.12.0->tensorflow-text) (23.1)\n",
            "Requirement already satisfied: protobuf!=4.21.0,!=4.21.1,!=4.21.2,!=4.21.3,!=4.21.4,!=4.21.5,<5.0.0dev,>=3.20.3 in /usr/local/lib/python3.10/dist-packages (from tensorflow<2.13,>=2.12.0->tensorflow-text) (3.20.3)\n",
            "Requirement already satisfied: setuptools in /usr/local/lib/python3.10/dist-packages (from tensorflow<2.13,>=2.12.0->tensorflow-text) (67.7.2)\n",
            "Requirement already satisfied: six>=1.12.0 in /usr/local/lib/python3.10/dist-packages (from tensorflow<2.13,>=2.12.0->tensorflow-text) (1.16.0)\n",
            "Requirement already satisfied: tensorboard<2.13,>=2.12 in /usr/local/lib/python3.10/dist-packages (from tensorflow<2.13,>=2.12.0->tensorflow-text) (2.12.2)\n",
            "Requirement already satisfied: tensorflow-estimator<2.13,>=2.12.0 in /usr/local/lib/python3.10/dist-packages (from tensorflow<2.13,>=2.12.0->tensorflow-text) (2.12.0)\n",
            "Requirement already satisfied: termcolor>=1.1.0 in /usr/local/lib/python3.10/dist-packages (from tensorflow<2.13,>=2.12.0->tensorflow-text) (2.3.0)\n",
            "Requirement already satisfied: typing-extensions>=3.6.6 in /usr/local/lib/python3.10/dist-packages (from tensorflow<2.13,>=2.12.0->tensorflow-text) (4.5.0)\n",
            "Requirement already satisfied: wrapt<1.15,>=1.11.0 in /usr/local/lib/python3.10/dist-packages (from tensorflow<2.13,>=2.12.0->tensorflow-text) (1.14.1)\n",
            "Requirement already satisfied: tensorflow-io-gcs-filesystem>=0.23.1 in /usr/local/lib/python3.10/dist-packages (from tensorflow<2.13,>=2.12.0->tensorflow-text) (0.32.0)\n",
            "Requirement already satisfied: wheel<1.0,>=0.23.0 in /usr/local/lib/python3.10/dist-packages (from astunparse>=1.6.0->tensorflow<2.13,>=2.12.0->tensorflow-text) (0.40.0)\n",
            "Requirement already satisfied: ml-dtypes>=0.0.3 in /usr/local/lib/python3.10/dist-packages (from jax>=0.3.15->tensorflow<2.13,>=2.12.0->tensorflow-text) (0.1.0)\n",
            "Requirement already satisfied: scipy>=1.7 in /usr/local/lib/python3.10/dist-packages (from jax>=0.3.15->tensorflow<2.13,>=2.12.0->tensorflow-text) (1.10.1)\n",
            "Requirement already satisfied: google-auth<3,>=1.6.3 in /usr/local/lib/python3.10/dist-packages (from tensorboard<2.13,>=2.12->tensorflow<2.13,>=2.12.0->tensorflow-text) (2.17.3)\n",
            "Requirement already satisfied: google-auth-oauthlib<1.1,>=0.5 in /usr/local/lib/python3.10/dist-packages (from tensorboard<2.13,>=2.12->tensorflow<2.13,>=2.12.0->tensorflow-text) (1.0.0)\n",
            "Requirement already satisfied: markdown>=2.6.8 in /usr/local/lib/python3.10/dist-packages (from tensorboard<2.13,>=2.12->tensorflow<2.13,>=2.12.0->tensorflow-text) (3.4.3)\n",
            "Requirement already satisfied: requests<3,>=2.21.0 in /usr/local/lib/python3.10/dist-packages (from tensorboard<2.13,>=2.12->tensorflow<2.13,>=2.12.0->tensorflow-text) (2.27.1)\n",
            "Requirement already satisfied: tensorboard-data-server<0.8.0,>=0.7.0 in /usr/local/lib/python3.10/dist-packages (from tensorboard<2.13,>=2.12->tensorflow<2.13,>=2.12.0->tensorflow-text) (0.7.0)\n",
            "Requirement already satisfied: tensorboard-plugin-wit>=1.6.0 in /usr/local/lib/python3.10/dist-packages (from tensorboard<2.13,>=2.12->tensorflow<2.13,>=2.12.0->tensorflow-text) (1.8.1)\n",
            "Requirement already satisfied: werkzeug>=1.0.1 in /usr/local/lib/python3.10/dist-packages (from tensorboard<2.13,>=2.12->tensorflow<2.13,>=2.12.0->tensorflow-text) (2.3.0)\n",
            "Requirement already satisfied: cachetools<6.0,>=2.0.0 in /usr/local/lib/python3.10/dist-packages (from google-auth<3,>=1.6.3->tensorboard<2.13,>=2.12->tensorflow<2.13,>=2.12.0->tensorflow-text) (5.3.0)\n",
            "Requirement already satisfied: pyasn1-modules>=0.2.1 in /usr/local/lib/python3.10/dist-packages (from google-auth<3,>=1.6.3->tensorboard<2.13,>=2.12->tensorflow<2.13,>=2.12.0->tensorflow-text) (0.3.0)\n",
            "Requirement already satisfied: rsa<5,>=3.1.4 in /usr/local/lib/python3.10/dist-packages (from google-auth<3,>=1.6.3->tensorboard<2.13,>=2.12->tensorflow<2.13,>=2.12.0->tensorflow-text) (4.9)\n",
            "Requirement already satisfied: requests-oauthlib>=0.7.0 in /usr/local/lib/python3.10/dist-packages (from google-auth-oauthlib<1.1,>=0.5->tensorboard<2.13,>=2.12->tensorflow<2.13,>=2.12.0->tensorflow-text) (1.3.1)\n",
            "Requirement already satisfied: urllib3<1.27,>=1.21.1 in /usr/local/lib/python3.10/dist-packages (from requests<3,>=2.21.0->tensorboard<2.13,>=2.12->tensorflow<2.13,>=2.12.0->tensorflow-text) (1.26.15)\n",
            "Requirement already satisfied: certifi>=2017.4.17 in /usr/local/lib/python3.10/dist-packages (from requests<3,>=2.21.0->tensorboard<2.13,>=2.12->tensorflow<2.13,>=2.12.0->tensorflow-text) (2022.12.7)\n",
            "Requirement already satisfied: charset-normalizer~=2.0.0 in /usr/local/lib/python3.10/dist-packages (from requests<3,>=2.21.0->tensorboard<2.13,>=2.12->tensorflow<2.13,>=2.12.0->tensorflow-text) (2.0.12)\n",
            "Requirement already satisfied: idna<4,>=2.5 in /usr/local/lib/python3.10/dist-packages (from requests<3,>=2.21.0->tensorboard<2.13,>=2.12->tensorflow<2.13,>=2.12.0->tensorflow-text) (3.4)\n",
            "Requirement already satisfied: MarkupSafe>=2.1.1 in /usr/local/lib/python3.10/dist-packages (from werkzeug>=1.0.1->tensorboard<2.13,>=2.12->tensorflow<2.13,>=2.12.0->tensorflow-text) (2.1.2)\n",
            "Requirement already satisfied: pyasn1<0.6.0,>=0.4.6 in /usr/local/lib/python3.10/dist-packages (from pyasn1-modules>=0.2.1->google-auth<3,>=1.6.3->tensorboard<2.13,>=2.12->tensorflow<2.13,>=2.12.0->tensorflow-text) (0.5.0)\n",
            "Requirement already satisfied: oauthlib>=3.0.0 in /usr/local/lib/python3.10/dist-packages (from requests-oauthlib>=0.7.0->google-auth-oauthlib<1.1,>=0.5->tensorboard<2.13,>=2.12->tensorflow<2.13,>=2.12.0->tensorflow-text) (3.2.2)\n",
            "Installing collected packages: tensorflow-text\n",
            "Successfully installed tensorflow-text-2.12.1\n"
          ]
        }
      ]
    },
    {
      "cell_type": "code",
      "execution_count": 3,
      "metadata": {
        "id": "uY9EYnOoBTA0"
      },
      "outputs": [],
      "source": [
        "import numpy as np\n",
        "import pandas as pd\n",
        "\n",
        "#TensorFlow\n",
        "import tensorflow as tf\n",
        "import tensorflow_hub as hub\n",
        "from tensorflow.keras import layers\n",
        "#PB SUR MAC M1\n",
        "import tensorflow_text\n",
        "\n",
        "#Splitting\n",
        "from sklearn.model_selection import train_test_split\n",
        "\n",
        "#Scoring\n",
        "from sklearn.metrics import confusion_matrix,ConfusionMatrixDisplay,precision_score, recall_score, f1_score, accuracy_score\n",
        "\n",
        "#Graphes\n",
        "import matplotlib.pyplot as plt"
      ]
    },
    {
      "cell_type": "code",
      "source": [
        "#Récupération du DataSet\n",
        "dataset = pd.read_csv(\"https://full-stack-bigdata-datasets.s3.eu-west-3.amazonaws.com/Deep+Learning/project/spam.csv\",encoding = \"ISO-8859-1\")\n",
        "#On renseigne les NAN avec des chaines vides\n",
        "dataset = dataset.fillna('')\n",
        "#Concatenation des colonnes\n",
        "dataset['content'] = dataset.iloc[:,1] + dataset.iloc[:,2] + dataset.iloc[:,3] + dataset.iloc[:,4]\n",
        "#Suppression des colonnes \n",
        "dataset.drop(columns=['v2','Unnamed: 2','Unnamed: 3','Unnamed: 4'],inplace=True,axis=1)\n",
        "#rename de la colonne\n",
        "dataset.rename(columns={'v1':'target'},inplace=True)\n",
        "#Création target format numérique \n",
        "dataset['num_target'] = 0\n",
        "dataset.loc[dataset['target'] == 'spam','num_target'] = 1"
      ],
      "metadata": {
        "id": "0EqjeXh6Bq38"
      },
      "execution_count": 4,
      "outputs": []
    },
    {
      "cell_type": "code",
      "source": [
        "dataset.head()"
      ],
      "metadata": {
        "colab": {
          "base_uri": "https://localhost:8080/",
          "height": 228
        },
        "id": "JkFTnG_gBxlW",
        "outputId": "9d1c8bbd-42be-4b03-f526-3972d6d5e4c5"
      },
      "execution_count": 5,
      "outputs": [
        {
          "output_type": "execute_result",
          "data": {
            "text/plain": [
              "  target                                            content  num_target\n",
              "0    ham  Go until jurong point, crazy.. Available only ...           0\n",
              "1    ham                      Ok lar... Joking wif u oni...           0\n",
              "2   spam  Free entry in 2 a wkly comp to win FA Cup fina...           1\n",
              "3    ham  U dun say so early hor... U c already then say...           0\n",
              "4    ham  Nah I don't think he goes to usf, he lives aro...           0"
            ],
            "text/html": [
              "\n",
              "  <div id=\"df-ae534be0-1b6d-4d34-836b-46197d5e5280\">\n",
              "    <div class=\"colab-df-container\">\n",
              "      <div>\n",
              "<style scoped>\n",
              "    .dataframe tbody tr th:only-of-type {\n",
              "        vertical-align: middle;\n",
              "    }\n",
              "\n",
              "    .dataframe tbody tr th {\n",
              "        vertical-align: top;\n",
              "    }\n",
              "\n",
              "    .dataframe thead th {\n",
              "        text-align: right;\n",
              "    }\n",
              "</style>\n",
              "<table border=\"1\" class=\"dataframe\">\n",
              "  <thead>\n",
              "    <tr style=\"text-align: right;\">\n",
              "      <th></th>\n",
              "      <th>target</th>\n",
              "      <th>content</th>\n",
              "      <th>num_target</th>\n",
              "    </tr>\n",
              "  </thead>\n",
              "  <tbody>\n",
              "    <tr>\n",
              "      <th>0</th>\n",
              "      <td>ham</td>\n",
              "      <td>Go until jurong point, crazy.. Available only ...</td>\n",
              "      <td>0</td>\n",
              "    </tr>\n",
              "    <tr>\n",
              "      <th>1</th>\n",
              "      <td>ham</td>\n",
              "      <td>Ok lar... Joking wif u oni...</td>\n",
              "      <td>0</td>\n",
              "    </tr>\n",
              "    <tr>\n",
              "      <th>2</th>\n",
              "      <td>spam</td>\n",
              "      <td>Free entry in 2 a wkly comp to win FA Cup fina...</td>\n",
              "      <td>1</td>\n",
              "    </tr>\n",
              "    <tr>\n",
              "      <th>3</th>\n",
              "      <td>ham</td>\n",
              "      <td>U dun say so early hor... U c already then say...</td>\n",
              "      <td>0</td>\n",
              "    </tr>\n",
              "    <tr>\n",
              "      <th>4</th>\n",
              "      <td>ham</td>\n",
              "      <td>Nah I don't think he goes to usf, he lives aro...</td>\n",
              "      <td>0</td>\n",
              "    </tr>\n",
              "  </tbody>\n",
              "</table>\n",
              "</div>\n",
              "      <button class=\"colab-df-convert\" onclick=\"convertToInteractive('df-ae534be0-1b6d-4d34-836b-46197d5e5280')\"\n",
              "              title=\"Convert this dataframe to an interactive table.\"\n",
              "              style=\"display:none;\">\n",
              "        \n",
              "  <svg xmlns=\"http://www.w3.org/2000/svg\" height=\"24px\"viewBox=\"0 0 24 24\"\n",
              "       width=\"24px\">\n",
              "    <path d=\"M0 0h24v24H0V0z\" fill=\"none\"/>\n",
              "    <path d=\"M18.56 5.44l.94 2.06.94-2.06 2.06-.94-2.06-.94-.94-2.06-.94 2.06-2.06.94zm-11 1L8.5 8.5l.94-2.06 2.06-.94-2.06-.94L8.5 2.5l-.94 2.06-2.06.94zm10 10l.94 2.06.94-2.06 2.06-.94-2.06-.94-.94-2.06-.94 2.06-2.06.94z\"/><path d=\"M17.41 7.96l-1.37-1.37c-.4-.4-.92-.59-1.43-.59-.52 0-1.04.2-1.43.59L10.3 9.45l-7.72 7.72c-.78.78-.78 2.05 0 2.83L4 21.41c.39.39.9.59 1.41.59.51 0 1.02-.2 1.41-.59l7.78-7.78 2.81-2.81c.8-.78.8-2.07 0-2.86zM5.41 20L4 18.59l7.72-7.72 1.47 1.35L5.41 20z\"/>\n",
              "  </svg>\n",
              "      </button>\n",
              "      \n",
              "  <style>\n",
              "    .colab-df-container {\n",
              "      display:flex;\n",
              "      flex-wrap:wrap;\n",
              "      gap: 12px;\n",
              "    }\n",
              "\n",
              "    .colab-df-convert {\n",
              "      background-color: #E8F0FE;\n",
              "      border: none;\n",
              "      border-radius: 50%;\n",
              "      cursor: pointer;\n",
              "      display: none;\n",
              "      fill: #1967D2;\n",
              "      height: 32px;\n",
              "      padding: 0 0 0 0;\n",
              "      width: 32px;\n",
              "    }\n",
              "\n",
              "    .colab-df-convert:hover {\n",
              "      background-color: #E2EBFA;\n",
              "      box-shadow: 0px 1px 2px rgba(60, 64, 67, 0.3), 0px 1px 3px 1px rgba(60, 64, 67, 0.15);\n",
              "      fill: #174EA6;\n",
              "    }\n",
              "\n",
              "    [theme=dark] .colab-df-convert {\n",
              "      background-color: #3B4455;\n",
              "      fill: #D2E3FC;\n",
              "    }\n",
              "\n",
              "    [theme=dark] .colab-df-convert:hover {\n",
              "      background-color: #434B5C;\n",
              "      box-shadow: 0px 1px 3px 1px rgba(0, 0, 0, 0.15);\n",
              "      filter: drop-shadow(0px 1px 2px rgba(0, 0, 0, 0.3));\n",
              "      fill: #FFFFFF;\n",
              "    }\n",
              "  </style>\n",
              "\n",
              "      <script>\n",
              "        const buttonEl =\n",
              "          document.querySelector('#df-ae534be0-1b6d-4d34-836b-46197d5e5280 button.colab-df-convert');\n",
              "        buttonEl.style.display =\n",
              "          google.colab.kernel.accessAllowed ? 'block' : 'none';\n",
              "\n",
              "        async function convertToInteractive(key) {\n",
              "          const element = document.querySelector('#df-ae534be0-1b6d-4d34-836b-46197d5e5280');\n",
              "          const dataTable =\n",
              "            await google.colab.kernel.invokeFunction('convertToInteractive',\n",
              "                                                     [key], {});\n",
              "          if (!dataTable) return;\n",
              "\n",
              "          const docLinkHtml = 'Like what you see? Visit the ' +\n",
              "            '<a target=\"_blank\" href=https://colab.research.google.com/notebooks/data_table.ipynb>data table notebook</a>'\n",
              "            + ' to learn more about interactive tables.';\n",
              "          element.innerHTML = '';\n",
              "          dataTable['output_type'] = 'display_data';\n",
              "          await google.colab.output.renderOutput(dataTable, element);\n",
              "          const docLink = document.createElement('div');\n",
              "          docLink.innerHTML = docLinkHtml;\n",
              "          element.appendChild(docLink);\n",
              "        }\n",
              "      </script>\n",
              "    </div>\n",
              "  </div>\n",
              "  "
            ]
          },
          "metadata": {},
          "execution_count": 5
        }
      ]
    },
    {
      "cell_type": "code",
      "source": [
        "#Chargement du model de preprocess BERT\n",
        "bert_preprocess_model = hub.KerasLayer(\"https://tfhub.dev/tensorflow/bert_en_uncased_preprocess/3\")\n",
        "#A la sortie c'est un dictionnaire avec 3 elements \n",
        "\n",
        "#Chargement d'un model BERT SMALL \n",
        "bert_model = hub.KerasLayer(\"https://tfhub.dev/tensorflow/small_bert/bert_en_uncased_L-2_H-128_A-2/1\",trainable=False, name=\"bert\")"
      ],
      "metadata": {
        "id": "pRaxKYvNBxCy"
      },
      "execution_count": 6,
      "outputs": []
    },
    {
      "cell_type": "code",
      "source": [
        "text_input = tf.keras.layers.Input(shape=(), dtype=tf.string)\n",
        "preprossessing = bert_preprocess_model(text_input)\n",
        "bert_outputs = bert_model(preprossessing)\n",
        "bert_pooled_outputs = bert_outputs['pooled_output']\n",
        "dense_layer = tf.keras.layers.Dense(64, activation=\"relu\")(bert_pooled_outputs)\n",
        "final_outputs = tf.keras.layers.Dense(1, activation=\"sigmoid\")(dense_layer)\n",
        "model_bert = tf.keras.Model(inputs=text_input, outputs=final_outputs)\n",
        "model_bert.summary()"
      ],
      "metadata": {
        "colab": {
          "base_uri": "https://localhost:8080/"
        },
        "id": "fsUtQrTTB3po",
        "outputId": "885c3e03-3cbb-487a-c917-4915e0c0b936"
      },
      "execution_count": 7,
      "outputs": [
        {
          "output_type": "stream",
          "name": "stdout",
          "text": [
            "Model: \"model\"\n",
            "__________________________________________________________________________________________________\n",
            " Layer (type)                   Output Shape         Param #     Connected to                     \n",
            "==================================================================================================\n",
            " input_1 (InputLayer)           [(None,)]            0           []                               \n",
            "                                                                                                  \n",
            " keras_layer (KerasLayer)       {'input_mask': (Non  0           ['input_1[0][0]']                \n",
            "                                e, 128),                                                          \n",
            "                                 'input_type_ids':                                                \n",
            "                                (None, 128),                                                      \n",
            "                                 'input_word_ids':                                                \n",
            "                                (None, 128)}                                                      \n",
            "                                                                                                  \n",
            " bert (KerasLayer)              {'pooled_output': (  4385921     ['keras_layer[0][0]',            \n",
            "                                None, 128),                       'keras_layer[0][1]',            \n",
            "                                 'encoder_outputs':               'keras_layer[0][2]']            \n",
            "                                 [(None, 128, 128),                                               \n",
            "                                 (None, 128, 128)],                                               \n",
            "                                 'default': (None,                                                \n",
            "                                128),                                                             \n",
            "                                 'sequence_output':                                               \n",
            "                                 (None, 128, 128)}                                                \n",
            "                                                                                                  \n",
            " dense (Dense)                  (None, 64)           8256        ['bert[0][3]']                   \n",
            "                                                                                                  \n",
            " dense_1 (Dense)                (None, 1)            65          ['dense[0][0]']                  \n",
            "                                                                                                  \n",
            "==================================================================================================\n",
            "Total params: 4,394,242\n",
            "Trainable params: 8,321\n",
            "Non-trainable params: 4,385,921\n",
            "__________________________________________________________________________________________________\n"
          ]
        }
      ]
    },
    {
      "cell_type": "code",
      "source": [
        "#On compile le modele (legacy utilisé car mac M1)\n",
        "model_bert.compile(optimizer=tf.keras.optimizers.Adam(),\n",
        "              loss=tf.keras.losses.BinaryCrossentropy(),\n",
        "              metrics=tf.keras.metrics.BinaryAccuracy())"
      ],
      "metadata": {
        "id": "UpGQbWqWB7C5"
      },
      "execution_count": 8,
      "outputs": []
    },
    {
      "cell_type": "code",
      "source": [
        "#Meme découpage que pour les autres models \n",
        "train_set,val_set,label_train_set,label_val_set = train_test_split(dataset['content'],dataset['num_target'],test_size=0.1,stratify=dataset['num_target'])\n",
        "train_set,test_set,label_train_set,label_test_set = train_test_split(train_set,label_train_set,test_size=0.2,stratify=label_train_set)\n"
      ],
      "metadata": {
        "id": "XDlRCFEDB9N7"
      },
      "execution_count": 9,
      "outputs": []
    },
    {
      "cell_type": "code",
      "source": [
        "#Entrainement \n",
        "model_bert.fit(train_set,label_train_set,\n",
        "          epochs=50, \n",
        "          validation_data=(val_set,label_val_set))"
      ],
      "metadata": {
        "colab": {
          "base_uri": "https://localhost:8080/"
        },
        "id": "Zewkfca3B_hG",
        "outputId": "96446053-cd32-42bc-8d3d-475770103206"
      },
      "execution_count": 10,
      "outputs": [
        {
          "output_type": "stream",
          "name": "stdout",
          "text": [
            "Epoch 1/50\n",
            "126/126 [==============================] - 19s 127ms/step - loss: 0.2105 - binary_accuracy: 0.9132 - val_loss: 0.1199 - val_binary_accuracy: 0.9606\n",
            "Epoch 2/50\n",
            "126/126 [==============================] - 16s 131ms/step - loss: 0.1274 - binary_accuracy: 0.9559 - val_loss: 0.1006 - val_binary_accuracy: 0.9695\n",
            "Epoch 3/50\n",
            "126/126 [==============================] - 16s 129ms/step - loss: 0.1059 - binary_accuracy: 0.9656 - val_loss: 0.0790 - val_binary_accuracy: 0.9731\n",
            "Epoch 4/50\n",
            "126/126 [==============================] - 17s 134ms/step - loss: 0.0955 - binary_accuracy: 0.9686 - val_loss: 0.0737 - val_binary_accuracy: 0.9731\n",
            "Epoch 5/50\n",
            "126/126 [==============================] - 15s 121ms/step - loss: 0.0931 - binary_accuracy: 0.9706 - val_loss: 0.0688 - val_binary_accuracy: 0.9803\n",
            "Epoch 6/50\n",
            "126/126 [==============================] - 16s 127ms/step - loss: 0.0885 - binary_accuracy: 0.9716 - val_loss: 0.0696 - val_binary_accuracy: 0.9785\n",
            "Epoch 7/50\n",
            "126/126 [==============================] - 16s 124ms/step - loss: 0.0853 - binary_accuracy: 0.9691 - val_loss: 0.0653 - val_binary_accuracy: 0.9821\n",
            "Epoch 8/50\n",
            "126/126 [==============================] - 16s 125ms/step - loss: 0.0858 - binary_accuracy: 0.9691 - val_loss: 0.0660 - val_binary_accuracy: 0.9803\n",
            "Epoch 9/50\n",
            "126/126 [==============================] - 17s 136ms/step - loss: 0.0813 - binary_accuracy: 0.9713 - val_loss: 0.0733 - val_binary_accuracy: 0.9785\n",
            "Epoch 10/50\n",
            "126/126 [==============================] - 19s 147ms/step - loss: 0.0790 - binary_accuracy: 0.9721 - val_loss: 0.0687 - val_binary_accuracy: 0.9767\n",
            "Epoch 11/50\n",
            "126/126 [==============================] - 17s 136ms/step - loss: 0.0780 - binary_accuracy: 0.9723 - val_loss: 0.0650 - val_binary_accuracy: 0.9785\n",
            "Epoch 12/50\n",
            "126/126 [==============================] - 16s 131ms/step - loss: 0.0764 - binary_accuracy: 0.9733 - val_loss: 0.0634 - val_binary_accuracy: 0.9857\n",
            "Epoch 13/50\n",
            "126/126 [==============================] - 16s 130ms/step - loss: 0.0756 - binary_accuracy: 0.9736 - val_loss: 0.0705 - val_binary_accuracy: 0.9767\n",
            "Epoch 14/50\n",
            "126/126 [==============================] - 17s 134ms/step - loss: 0.0758 - binary_accuracy: 0.9746 - val_loss: 0.0757 - val_binary_accuracy: 0.9785\n",
            "Epoch 15/50\n",
            "126/126 [==============================] - 16s 130ms/step - loss: 0.0764 - binary_accuracy: 0.9743 - val_loss: 0.0920 - val_binary_accuracy: 0.9731\n",
            "Epoch 16/50\n",
            "126/126 [==============================] - 16s 126ms/step - loss: 0.0721 - binary_accuracy: 0.9753 - val_loss: 0.0628 - val_binary_accuracy: 0.9803\n",
            "Epoch 17/50\n",
            "126/126 [==============================] - 17s 135ms/step - loss: 0.0686 - binary_accuracy: 0.9758 - val_loss: 0.0685 - val_binary_accuracy: 0.9767\n",
            "Epoch 18/50\n",
            "126/126 [==============================] - 16s 130ms/step - loss: 0.0687 - binary_accuracy: 0.9758 - val_loss: 0.0675 - val_binary_accuracy: 0.9767\n",
            "Epoch 19/50\n",
            "126/126 [==============================] - 17s 137ms/step - loss: 0.0682 - binary_accuracy: 0.9768 - val_loss: 0.0620 - val_binary_accuracy: 0.9839\n",
            "Epoch 20/50\n",
            "126/126 [==============================] - 16s 131ms/step - loss: 0.0686 - binary_accuracy: 0.9763 - val_loss: 0.0608 - val_binary_accuracy: 0.9821\n",
            "Epoch 21/50\n",
            "126/126 [==============================] - 18s 142ms/step - loss: 0.0686 - binary_accuracy: 0.9761 - val_loss: 0.0761 - val_binary_accuracy: 0.9767\n",
            "Epoch 22/50\n",
            "126/126 [==============================] - 17s 131ms/step - loss: 0.0674 - binary_accuracy: 0.9773 - val_loss: 0.0732 - val_binary_accuracy: 0.9767\n",
            "Epoch 23/50\n",
            "126/126 [==============================] - 16s 129ms/step - loss: 0.0645 - binary_accuracy: 0.9776 - val_loss: 0.0694 - val_binary_accuracy: 0.9767\n",
            "Epoch 24/50\n",
            "126/126 [==============================] - 17s 135ms/step - loss: 0.0631 - binary_accuracy: 0.9768 - val_loss: 0.0667 - val_binary_accuracy: 0.9785\n",
            "Epoch 25/50\n",
            "126/126 [==============================] - 16s 130ms/step - loss: 0.0635 - binary_accuracy: 0.9786 - val_loss: 0.0610 - val_binary_accuracy: 0.9821\n",
            "Epoch 26/50\n",
            "126/126 [==============================] - 17s 136ms/step - loss: 0.0640 - binary_accuracy: 0.9766 - val_loss: 0.0702 - val_binary_accuracy: 0.9695\n",
            "Epoch 27/50\n",
            "126/126 [==============================] - 17s 131ms/step - loss: 0.0640 - binary_accuracy: 0.9786 - val_loss: 0.0609 - val_binary_accuracy: 0.9803\n",
            "Epoch 28/50\n",
            "126/126 [==============================] - 16s 130ms/step - loss: 0.0653 - binary_accuracy: 0.9791 - val_loss: 0.0696 - val_binary_accuracy: 0.9785\n",
            "Epoch 29/50\n",
            "126/126 [==============================] - 17s 135ms/step - loss: 0.0624 - binary_accuracy: 0.9806 - val_loss: 0.1007 - val_binary_accuracy: 0.9516\n",
            "Epoch 30/50\n",
            "126/126 [==============================] - 16s 130ms/step - loss: 0.0644 - binary_accuracy: 0.9761 - val_loss: 0.0641 - val_binary_accuracy: 0.9803\n",
            "Epoch 31/50\n",
            "126/126 [==============================] - 16s 130ms/step - loss: 0.0615 - binary_accuracy: 0.9776 - val_loss: 0.0704 - val_binary_accuracy: 0.9767\n",
            "Epoch 32/50\n",
            "126/126 [==============================] - 17s 135ms/step - loss: 0.0612 - binary_accuracy: 0.9778 - val_loss: 0.0623 - val_binary_accuracy: 0.9821\n",
            "Epoch 33/50\n",
            "126/126 [==============================] - 17s 131ms/step - loss: 0.0599 - binary_accuracy: 0.9793 - val_loss: 0.0633 - val_binary_accuracy: 0.9803\n",
            "Epoch 34/50\n",
            "126/126 [==============================] - 17s 136ms/step - loss: 0.0578 - binary_accuracy: 0.9796 - val_loss: 0.0616 - val_binary_accuracy: 0.9839\n",
            "Epoch 35/50\n",
            "126/126 [==============================] - 17s 132ms/step - loss: 0.0592 - binary_accuracy: 0.9788 - val_loss: 0.0641 - val_binary_accuracy: 0.9803\n",
            "Epoch 36/50\n",
            "126/126 [==============================] - 16s 128ms/step - loss: 0.0597 - binary_accuracy: 0.9796 - val_loss: 0.0624 - val_binary_accuracy: 0.9803\n",
            "Epoch 37/50\n",
            "126/126 [==============================] - 17s 135ms/step - loss: 0.0574 - binary_accuracy: 0.9788 - val_loss: 0.0658 - val_binary_accuracy: 0.9767\n",
            "Epoch 38/50\n",
            "126/126 [==============================] - 16s 130ms/step - loss: 0.0560 - binary_accuracy: 0.9816 - val_loss: 0.0683 - val_binary_accuracy: 0.9803\n",
            "Epoch 39/50\n",
            "126/126 [==============================] - 17s 136ms/step - loss: 0.0551 - binary_accuracy: 0.9806 - val_loss: 0.0622 - val_binary_accuracy: 0.9857\n",
            "Epoch 40/50\n",
            "126/126 [==============================] - 16s 130ms/step - loss: 0.0569 - binary_accuracy: 0.9793 - val_loss: 0.0666 - val_binary_accuracy: 0.9803\n",
            "Epoch 41/50\n",
            "126/126 [==============================] - 16s 130ms/step - loss: 0.0536 - binary_accuracy: 0.9820 - val_loss: 0.0738 - val_binary_accuracy: 0.9785\n",
            "Epoch 42/50\n",
            "126/126 [==============================] - 17s 136ms/step - loss: 0.0533 - binary_accuracy: 0.9820 - val_loss: 0.0645 - val_binary_accuracy: 0.9803\n",
            "Epoch 43/50\n",
            "126/126 [==============================] - 16s 128ms/step - loss: 0.0557 - binary_accuracy: 0.9816 - val_loss: 0.0644 - val_binary_accuracy: 0.9803\n",
            "Epoch 44/50\n",
            "126/126 [==============================] - 17s 136ms/step - loss: 0.0548 - binary_accuracy: 0.9803 - val_loss: 0.0640 - val_binary_accuracy: 0.9803\n",
            "Epoch 45/50\n",
            "126/126 [==============================] - 17s 137ms/step - loss: 0.0518 - binary_accuracy: 0.9823 - val_loss: 0.0734 - val_binary_accuracy: 0.9749\n",
            "Epoch 46/50\n",
            "126/126 [==============================] - 21s 166ms/step - loss: 0.0537 - binary_accuracy: 0.9796 - val_loss: 0.0635 - val_binary_accuracy: 0.9821\n",
            "Epoch 47/50\n",
            "126/126 [==============================] - 17s 132ms/step - loss: 0.0544 - binary_accuracy: 0.9818 - val_loss: 0.0688 - val_binary_accuracy: 0.9803\n",
            "Epoch 48/50\n",
            "126/126 [==============================] - 17s 132ms/step - loss: 0.0499 - binary_accuracy: 0.9848 - val_loss: 0.0656 - val_binary_accuracy: 0.9785\n",
            "Epoch 49/50\n",
            "126/126 [==============================] - 17s 135ms/step - loss: 0.0501 - binary_accuracy: 0.9825 - val_loss: 0.0706 - val_binary_accuracy: 0.9803\n",
            "Epoch 50/50\n",
            "126/126 [==============================] - 16s 129ms/step - loss: 0.0512 - binary_accuracy: 0.9823 - val_loss: 0.0681 - val_binary_accuracy: 0.9749\n"
          ]
        },
        {
          "output_type": "execute_result",
          "data": {
            "text/plain": [
              "<keras.callbacks.History at 0x7f6a9cae01c0>"
            ]
          },
          "metadata": {},
          "execution_count": 10
        }
      ]
    },
    {
      "cell_type": "code",
      "source": [
        "#Trace la courbe d'accuracy\n",
        "plt.plot(model_bert.history.history[\"binary_accuracy\"], c=\"r\", label=\"train\")\n",
        "plt.plot(model_bert.history.history[\"val_binary_accuracy\"], c=\"b\", label=\"test\")\n",
        "plt.legend(loc=\"upper left\")\n",
        "plt.show()"
      ],
      "metadata": {
        "colab": {
          "base_uri": "https://localhost:8080/",
          "height": 450
        },
        "id": "KYuZLSXgFX18",
        "outputId": "9cce26c5-48a0-4847-cf36-a70044a7476c"
      },
      "execution_count": 12,
      "outputs": [
        {
          "output_type": "display_data",
          "data": {
            "text/plain": [
              "<Figure size 640x480 with 1 Axes>"
            ],
            "image/png": "[encoded data removed]"
          },
          "metadata": {}
        }
      ]
    },
    {
      "cell_type": "code",
      "source": [
        "# Trace la loss\n",
        "plt.plot(model_bert.history.history[\"loss\"], c=\"r\", label=\"train_loss\")\n",
        "plt.plot(model_bert.history.history[\"val_loss\"], c=\"b\", label=\"test_loss\")\n",
        "plt.legend(loc=\"upper left\")\n",
        "plt.show()"
      ],
      "metadata": {
        "colab": {
          "base_uri": "https://localhost:8080/",
          "height": 450
        },
        "id": "JRDnfsDxFfQc",
        "outputId": "8e49c22c-243c-4883-8ee2-87f9b8a0a6e4"
      },
      "execution_count": 13,
      "outputs": [
        {
          "output_type": "display_data",
          "data": {
            "text/plain": [
              "<Figure size 640x480 with 1 Axes>"
            ],
            "image/png": "[encoded data removed]"
          },
          "metadata": {}
        }
      ]
    },
    {
      "cell_type": "code",
      "source": [
        "#disp = ConfusionMatrixDisplay\n",
        "cm_all_car = confusion_matrix(label_test_set, np.round(model_bert.predict(test_set)))\n",
        "disp_all_car = ConfusionMatrixDisplay(confusion_matrix=cm_all_car)\n",
        "disp_all_car.plot()\n",
        "plt.show()"
      ],
      "metadata": {
        "colab": {
          "base_uri": "https://localhost:8080/",
          "height": 487
        },
        "id": "688QWKUYFhbg",
        "outputId": "3db2e3bd-c245-40f4-8923-9af1c762deed"
      },
      "execution_count": 14,
      "outputs": [
        {
          "output_type": "stream",
          "name": "stdout",
          "text": [
            "32/32 [==============================] - 8s 209ms/step\n"
          ]
        },
        {
          "output_type": "display_data",
          "data": {
            "text/plain": [
              "<Figure size 640x480 with 2 Axes>"
            ],
            "image/png": "[encoded data removed]"
          },
          "metadata": {}
        }
      ]
    },
    {
      "cell_type": "markdown",
      "source": [
        "Le modele est bon mais pas aussi bon que le USE, il reste 16 sms non correctement classé. A tester avec un plus gros model BERT et plus de data"
      ],
      "metadata": {
        "id": "PG5IE1GBFpKH"
      }
    },
    {
      "cell_type": "code",
      "source": [],
      "metadata": {
        "id": "XM_X1rNbFnUV"
      },
      "execution_count": null,
      "outputs": []
    }
  ]
}